{
  "cells": [
    {
      "cell_type": "markdown",
      "metadata": {
        "id": "view-in-github",
        "colab_type": "text"
      },
      "source": [
        "<a href=\"https://colab.research.google.com/github/Gazda70/DeepLearningInPython/blob/main/recurrent_network_words2numbers.ipynb\" target=\"_parent\"><img src=\"https://colab.research.google.com/assets/colab-badge.svg\" alt=\"Open In Colab\"/></a>"
      ]
    },
    {
      "cell_type": "markdown",
      "metadata": {
        "id": "96QaOEJDWnAX"
      },
      "source": [
        "# Model transforming words into a number\n",
        "- input: sequence of letters\n",
        "- output: number\n",
        "\n",
        "\n",
        "Examples:\n",
        "- input: sequence 'one hundred' output: 100\n",
        "- input: sequence 'two hundred fourteen' output: 214\n",
        "\n",
        "The code in file number2words.py taken from: https://www.codesansar.com/python-programming-examples/number-words-conversion-no-library-used.htm"
      ]
    },
    {
      "cell_type": "code",
      "execution_count": null,
      "metadata": {
        "id": "qDIinZy-WnAe"
      },
      "outputs": [],
      "source": [
        "from tensorflow.keras.layers import Dense\n",
        "from tensorflow.keras.models import Sequential\n",
        "from tensorflow.keras.layers import LSTM\n",
        "import numpy as np\n",
        "#from number2words import getWords"
      ]
    },
    {
      "cell_type": "code",
      "execution_count": null,
      "metadata": {
        "id": "AY-cJUjRXOxY"
      },
      "outputs": [],
      "source": [
        "def process(number, index):\n",
        "\n",
        "    if number=='0':\n",
        "        return 'zero'\n",
        "\n",
        "    length = len(number)\n",
        "\n",
        "    if(length > 3):\n",
        "        return False\n",
        "\n",
        "    number = number.zfill(3)\n",
        "    words = ''\n",
        "\n",
        "    hdigit = int(number[0])\n",
        "    tdigit = int(number[1])\n",
        "    odigit = int(number[2])\n",
        "\n",
        "    words += '' if number[0] == '0' else ones[hdigit]\n",
        "    words += ' hundred ' if not words == '' else ''\n",
        "\n",
        "    if(tdigit > 1):\n",
        "        words += tens[tdigit - 2]\n",
        "        words += ' '\n",
        "        words += ones[odigit]\n",
        "\n",
        "    elif(tdigit == 1):\n",
        "        words += twos[(int(tdigit + odigit) % 10) - 1]\n",
        "\n",
        "    elif(tdigit == 0):\n",
        "        words += ones[odigit]\n",
        "\n",
        "    if(words.endswith('zero')):\n",
        "        words = words[:-len('zero')]\n",
        "    else:\n",
        "        words += ' '\n",
        "\n",
        "    if(not len(words) == 0):\n",
        "        words += suffixes[index]\n",
        "\n",
        "    return words;"
      ]
    },
    {
      "cell_type": "code",
      "execution_count": null,
      "metadata": {
        "id": "Bo6qKRY0XGSF"
      },
      "outputs": [],
      "source": [
        "def getWords(number):\n",
        "    length = len(str(number))\n",
        "\n",
        "    if length>12:\n",
        "        return 'This program supports upto 12 digit numbers.'\n",
        "\n",
        "    count = length // 3 if length % 3 == 0 else length // 3 + 1\n",
        "    copy = count\n",
        "    words = []\n",
        "\n",
        "    for i in range(length - 1, -1, -3):\n",
        "        words.append(process(str(number)[0 if i - 2 < 0 else i - 2 : i + 1], copy - count))\n",
        "        count -= 1;\n",
        "\n",
        "    final_words = ''\n",
        "    for s in reversed(words):\n",
        "        temp = s + ' '\n",
        "        final_words += temp\n",
        "\n",
        "    return final_words"
      ]
    },
    {
      "cell_type": "code",
      "execution_count": null,
      "metadata": {
        "id": "q_TiYWYpWv5b"
      },
      "outputs": [],
      "source": [
        "class ToRoman(int):\n",
        "    def __new__(cls, number):\n",
        "        if number > 3999:\n",
        "            raise ValueError('Values over 3999 are not allowed: {}'.format(number))\n",
        "        if number < 0:\n",
        "            raise ValueError('Negative values are not allowed: {}'.format(number))\n",
        "        return super().__new__(cls, number)\n",
        "\n",
        "    def __init__(self, number):\n",
        "        to_roman = {1: 'I', 2: 'II', 3: 'III', 4: 'IV', 5: 'V',\n",
        "                6: 'VI', 7: 'VII', 8: 'VIII', 9: 'IX', 10: 'X', 20: 'XX',\n",
        "                30: 'XXX', 40: 'XL', 50: 'L', 60: 'LX', 70: 'LXX', 80: 'LXXX',\n",
        "                90: 'XC', 100: 'C', 200: 'CC', 300: 'CCC', 400: 'CD', 500: 'D',\n",
        "                600: 'DC', 700: 'DCC', 800: 'DCCC', 900: 'CM', 1000: 'M',\n",
        "                2000: 'MM', 3000: 'MMM'}\n",
        "        self.roman = ''.join([to_roman.get(num) for num in self][::-1])\n",
        "\n",
        "    def __iter__(self):\n",
        "        number = self.__str__()\n",
        "        count = 1\n",
        "        for digit in number[::-1]:\n",
        "            if digit != '0':\n",
        "                yield int(digit) * count\n",
        "            count *= 10\n",
        "\n",
        "class ToArabic(str):\n",
        "    def __init__(self, roman):\n",
        "        roman = self.check_valid(roman)\n",
        "        keys = ['IV', 'IX', 'XL', 'XC', 'CD', 'CM', 'I', 'V', 'X', 'L', 'C', 'D', 'M']\n",
        "        to_arabic = {'IV': '4', 'IX': '9', 'XL': '40', 'XC': '90', 'CD': '400', 'CM': '900',\n",
        "                'I': '1', 'V': '5', 'X': '10', 'L': '50', 'C': '100', 'D': '500', 'M': '1000'}\n",
        "        for key in keys:\n",
        "            if key in roman:\n",
        "                roman = roman.replace(key, ' {}'.format(to_arabic.get(key)))\n",
        "        self.arabic = sum(int(num) for num in roman.split())\n",
        "\n",
        "    def check_valid(self, roman):\n",
        "        roman = roman.upper()\n",
        "        invalid = ['IIII', 'VV', 'XXXX', 'LL', 'CCCC', 'DD', 'MMMM']\n",
        "        if any(sub in roman for sub in invalid):\n",
        "            raise ValueError('Numerus invalidus est: {}'.format(roman))\n",
        "        return roman\n",
        "\n",
        "def convert(number):\n",
        "    if isinstance(number, int):\n",
        "        num = ToRoman(number)\n",
        "        return num.roman\n",
        "    num = ToArabic(number)\n",
        "    return num.arabic"
      ]
    },
    {
      "cell_type": "markdown",
      "metadata": {
        "id": "qJuh5NecWnAg"
      },
      "source": [
        "## Model"
      ]
    },
    {
      "cell_type": "code",
      "execution_count": null,
      "metadata": {
        "colab": {
          "base_uri": "https://localhost:8080/"
        },
        "id": "lid5R3cmWnAh",
        "outputId": "97cd876f-f4da-435b-f68c-6df00009535a"
      },
      "outputs": [
        {
          "output_type": "stream",
          "name": "stdout",
          "text": [
            "Model: \"sequential\"\n",
            "_________________________________________________________________\n",
            " Layer (type)                Output Shape              Param #   \n",
            "=================================================================\n",
            " lstm (LSTM)                 (None, None, 128)         66560     \n",
            "                                                                 \n",
            " lstm_1 (LSTM)               (None, 128)               131584    \n",
            "                                                                 \n",
            " dense (Dense)               (None, 1)                 129       \n",
            "                                                                 \n",
            "=================================================================\n",
            "Total params: 198,273\n",
            "Trainable params: 198,273\n",
            "Non-trainable params: 0\n",
            "_________________________________________________________________\n"
          ]
        }
      ],
      "source": [
        "model = Sequential()\n",
        "model.add(LSTM(128,input_shape=(None,1),return_sequences=True)) # sequences of singlen numbers\n",
        "model.add(LSTM(128))\n",
        "model.add(Dense(1))\n",
        "\n",
        "model.compile(loss='mean_squared_error', optimizer=\"adam\",metrics=['mae','mse'])\n",
        "num_epochs = 0\n",
        "model.summary()"
      ]
    },
    {
      "cell_type": "markdown",
      "metadata": {
        "id": "3dwwZqunWnAi"
      },
      "source": [
        "## Dataset creation"
      ]
    },
    {
      "cell_type": "markdown",
      "metadata": {
        "id": "RBaT-xLiWnAi"
      },
      "source": [
        "### Helper methods"
      ]
    },
    {
      "cell_type": "code",
      "execution_count": null,
      "metadata": {
        "id": "KnfTTsfGWnAj"
      },
      "outputs": [],
      "source": [
        "# helper method, converts sequence of numbers to text\n",
        "def to_text(sample):\n",
        "    return ''.join([idx2char[int(x)] for x in sample])\n",
        "# helper method, converts text to sequence of numbers\n",
        "def to_number(words):\n",
        "    return np.array([char2idx[char] for char in words])"
      ]
    },
    {
      "cell_type": "markdown",
      "metadata": {
        "id": "qiNqW_W1WnAk"
      },
      "source": [
        "### Dataset - **samples** and **labels**"
      ]
    },
    {
      "cell_type": "code",
      "execution_count": null,
      "metadata": {
        "colab": {
          "base_uri": "https://localhost:8080/"
        },
        "id": "dGeRQ9fyWnAk",
        "outputId": "6d634d98-f1a4-405d-e34b-7ba5cb06f77d"
      },
      "outputs": [
        {
          "output_type": "stream",
          "name": "stdout",
          "text": [
            "Max len of text 9\n",
            "vocabulary (used letters) ['C', 'I', 'L', 'V', 'X']\n",
            "unique characters 5\n"
          ]
        }
      ],
      "source": [
        "DATASET_SIZE=200\n",
        "\n",
        "samples = []\n",
        "labels = []\n",
        "all_words = ''\n",
        "max_len = 0\n",
        "for i in range(DATASET_SIZE):\n",
        "    labels.append(i)\n",
        "    #words = lslownie(i)\n",
        "    words = convert(i)\n",
        "    samples.append(words)\n",
        "    all_words += words\n",
        "    if len(words)>max_len:\n",
        "        max_len = len(words)\n",
        "\n",
        "print('Max len of text',max_len)\n",
        "vocab = sorted(set(all_words))\n",
        "vocab_size = len(vocab)\n",
        "print('vocabulary (used letters)',vocab)\n",
        "print ('unique characters',vocab_size)"
      ]
    },
    {
      "cell_type": "markdown",
      "metadata": {
        "id": "Y_9Qna6kWnAl"
      },
      "source": [
        "#### Creating a mapping from unique characters to indices"
      ]
    },
    {
      "cell_type": "code",
      "execution_count": null,
      "metadata": {
        "colab": {
          "base_uri": "https://localhost:8080/"
        },
        "id": "1r0U22ixWnAm",
        "outputId": "42f44a10-7737-428d-c3a1-3a66606afe8c"
      },
      "outputs": [
        {
          "output_type": "stream",
          "name": "stdout",
          "text": [
            "char2idx:\n",
            " {'C': 0, 'I': 1, 'L': 2, 'V': 3, 'X': 4}\n",
            "idx2char\n",
            " ['C' 'I' 'L' 'V' 'X']\n"
          ]
        }
      ],
      "source": [
        "char2idx = {char:index for index, char in enumerate(vocab)}\n",
        "print('char2idx:\\n',char2idx)\n",
        "idx2char = np.array(vocab)\n",
        "print('idx2char\\n',idx2char)"
      ]
    },
    {
      "cell_type": "markdown",
      "metadata": {
        "id": "NzR3NXFLWnAm"
      },
      "source": [
        "#### Convert letters to numbers using char2idx"
      ]
    },
    {
      "cell_type": "code",
      "execution_count": null,
      "metadata": {
        "colab": {
          "base_uri": "https://localhost:8080/"
        },
        "id": "Fe8L8u0aWnAn",
        "outputId": "691bd01b-bace-4a63-d8ec-960b57ca53b8"
      },
      "outputs": [
        {
          "output_type": "stream",
          "name": "stdout",
          "text": [
            "CXXIII  ->becomes->  [0 4 4 1 1 1]\n"
          ]
        }
      ],
      "source": [
        "samples_int = []\n",
        "for s in samples:\n",
        "    v = np.array([char2idx[char] for char in s])\n",
        "    samples_int.append(v) # different sizes!\n",
        "print(samples[123],' ->becomes-> ',samples_int[123])"
      ]
    },
    {
      "cell_type": "markdown",
      "metadata": {
        "id": "JpBodrHLWnAn"
      },
      "source": [
        "#### From list of lists to numpy - must have a fixed number of characters (30 -> max_len)"
      ]
    },
    {
      "cell_type": "code",
      "execution_count": null,
      "metadata": {
        "colab": {
          "base_uri": "https://localhost:8080/"
        },
        "id": "hN_7PvSiWnAo",
        "outputId": "b9c36eb9-599a-4b18-f57c-800bbe48b389"
      },
      "outputs": [
        {
          "output_type": "stream",
          "name": "stdout",
          "text": [
            "SAMPLES\n",
            "\n",
            " [[0. 0. 0. ... 0. 0. 0.]\n",
            " [1. 0. 0. ... 0. 0. 0.]\n",
            " [1. 1. 0. ... 0. 0. 0.]\n",
            " ...\n",
            " [0. 4. 0. ... 0. 0. 0.]\n",
            " [0. 4. 0. ... 1. 0. 0.]\n",
            " [0. 4. 0. ... 0. 0. 0.]]\n",
            "(200, 9)\n"
          ]
        }
      ],
      "source": [
        "samples = np.zeros((DATASET_SIZE,max_len))\n",
        "for i in range(len(samples_int)):\n",
        "    for j in range(len(samples_int[i])):\n",
        "        samples[i,j] = np.array(samples_int[i][j]) # all not used have '0' which is ' '\n",
        "print('SAMPLES\\n\\n',samples)\n",
        "print(samples.shape)"
      ]
    },
    {
      "cell_type": "code",
      "execution_count": null,
      "metadata": {
        "colab": {
          "base_uri": "https://localhost:8080/"
        },
        "id": "lFGQRNo4WnAo",
        "outputId": "ba3e8588-228b-4a82-bb8d-a27cd4a837ba"
      },
      "outputs": [
        {
          "output_type": "stream",
          "name": "stdout",
          "text": [
            "Sample (for 123):\n",
            " [[0.]\n",
            " [4.]\n",
            " [4.]\n",
            " [1.]\n",
            " [1.]\n",
            " [1.]\n",
            " [0.]\n",
            " [0.]\n",
            " [0.]]\n",
            "Sample decoded CXXIIICCC\n",
            "Label (output): 123.0\n",
            "samples shape (200, 9, 1)\n",
            "labels shape (200,)\n"
          ]
        }
      ],
      "source": [
        "samples = np.expand_dims(samples,axis=2) #add the third dimension\n",
        "labels = np.array(labels,dtype=float)\n",
        "\n",
        "print(\"Sample (for 123):\\n\",samples[123])\n",
        "print(\"Sample decoded\",to_text(samples[123]))\n",
        "print(\"Label (output):\",labels[123])\n",
        "\n",
        "print('samples shape',samples.shape)\n",
        "print('labels shape',labels.shape)"
      ]
    },
    {
      "cell_type": "code",
      "execution_count": null,
      "metadata": {
        "colab": {
          "base_uri": "https://localhost:8080/"
        },
        "id": "f-_7hlQUWnAp",
        "outputId": "aeef92f0-bc74-4afa-d49a-22bbfdfa3402"
      },
      "outputs": [
        {
          "output_type": "stream",
          "name": "stdout",
          "text": [
            "Training samples: 100  test samples 100\n"
          ]
        }
      ],
      "source": [
        "TRAINING_SIZE = .5\n",
        "from sklearn.model_selection import train_test_split\n",
        "(trainSamples, testSamples, trainLabels, testLabels) = train_test_split(samples, labels,train_size=TRAINING_SIZE, random_state=1)\n",
        "print('Training samples:',len(trainSamples),' test samples',len(testSamples))"
      ]
    },
    {
      "cell_type": "code",
      "execution_count": null,
      "metadata": {
        "colab": {
          "base_uri": "https://localhost:8080/"
        },
        "id": "ZSVhfpNzWnAq",
        "outputId": "fc720610-aff7-4b7c-95b1-83f917444fcb"
      },
      "outputs": [
        {
          "output_type": "stream",
          "name": "stdout",
          "text": [
            "7/7 [==============================] - 1s 12ms/step\n",
            "text => [predicted value] error=[error]\n",
            "0 CCCCCCCCC => 0.00 error = 0.00 [T]\n",
            "1 ICCCCCCCC => -0.00 error = 1.00 [T]\n",
            "2 IICCCCCCC => -0.00 error = 2.00 [T]\n",
            "3 IIICCCCCC => -0.01 error = 3.01 [T]\n",
            "4 IVCCCCCCC => -0.01 error = 4.01 \n",
            "5 VCCCCCCCC => -0.01 error = 5.01 \n",
            "6 VICCCCCCC => -0.01 error = 6.01 [T]\n",
            "7 VIICCCCCC => -0.01 error = 7.01 [T]\n",
            "8 VIIICCCCC => -0.01 error = 8.01 [T]\n",
            "9 IXCCCCCCC => -0.01 error = 9.01 [T]\n",
            "10 XCCCCCCCC => -0.01 error = 10.01 [T]\n",
            "11 XICCCCCCC => -0.01 error = 11.01 \n",
            "12 XIICCCCCC => -0.01 error = 12.01 \n",
            "13 XIIICCCCC => -0.02 error = 13.02 \n",
            "14 XIVCCCCCC => -0.02 error = 14.02 \n",
            "15 XVCCCCCCC => -0.02 error = 15.02 [T]\n",
            "16 XVICCCCCC => -0.02 error = 16.02 \n",
            "17 XVIICCCCC => -0.02 error = 17.02 \n",
            "18 XVIIICCCC => -0.02 error = 18.02 \n",
            "19 XIXCCCCCC => -0.02 error = 19.02 \n",
            "20 XXCCCCCCC => -0.02 error = 20.02 [T]\n",
            "21 XXICCCCCC => -0.02 error = 21.02 [T]\n",
            "22 XXIICCCCC => -0.02 error = 22.02 [T]\n",
            "23 XXIIICCCC => -0.02 error = 23.02 [T]\n",
            "24 XXIVCCCCC => -0.03 error = 24.03 [T]\n",
            "25 XXVCCCCCC => -0.02 error = 25.02 [T]\n",
            "26 XXVICCCCC => -0.03 error = 26.03 [T]\n",
            "27 XXVIICCCC => -0.03 error = 27.03 \n",
            "28 XXVIIICCC => -0.03 error = 28.03 \n",
            "29 XXIXCCCCC => -0.03 error = 29.03 \n",
            "30 XXXCCCCCC => -0.03 error = 30.03 [T]\n",
            "31 XXXICCCCC => -0.03 error = 31.03 \n",
            "32 XXXIICCCC => -0.03 error = 32.03 [T]\n",
            "33 XXXIIICCC => -0.03 error = 33.03 \n",
            "34 XXXIVCCCC => -0.04 error = 34.04 \n",
            "35 XXXVCCCCC => -0.03 error = 35.03 \n",
            "36 XXXVICCCC => -0.04 error = 36.04 \n",
            "37 XXXVIICCC => -0.04 error = 37.04 [T]\n",
            "38 XXXVIIICC => -0.04 error = 38.04 \n",
            "39 XXXIXCCCC => -0.04 error = 39.04 \n",
            "40 XLCCCCCCC => -0.01 error = 40.01 \n",
            "41 XLICCCCCC => -0.02 error = 41.02 [T]\n",
            "42 XLIICCCCC => -0.02 error = 42.02 \n",
            "43 XLIIICCCC => -0.02 error = 43.02 [T]\n",
            "44 XLIVCCCCC => -0.02 error = 44.02 \n",
            "45 XLVCCCCCC => -0.02 error = 45.02 \n",
            "46 XLVICCCCC => -0.02 error = 46.02 [T]\n",
            "47 XLVIICCCC => -0.02 error = 47.02 \n",
            "48 XLVIIICCC => -0.03 error = 48.03 \n",
            "49 XLIXCCCCC => -0.02 error = 49.02 [T]\n",
            "50 LCCCCCCCC => -0.00 error = 50.00 [T]\n",
            "51 LICCCCCCC => -0.01 error = 51.01 \n",
            "52 LIICCCCCC => -0.01 error = 52.01 [T]\n",
            "53 LIIICCCCC => -0.01 error = 53.01 \n",
            "54 LIVCCCCCC => -0.01 error = 54.01 \n",
            "55 LVCCCCCCC => -0.01 error = 55.01 [T]\n",
            "56 LVICCCCCC => -0.01 error = 56.01 \n",
            "57 LVIICCCCC => -0.02 error = 57.02 [T]\n",
            "58 LVIIICCCC => -0.02 error = 58.02 \n",
            "59 LIXCCCCCC => -0.02 error = 59.02 \n",
            "60 LXCCCCCCC => -0.01 error = 60.01 [T]\n",
            "61 LXICCCCCC => -0.02 error = 61.02 [T]\n",
            "62 LXIICCCCC => -0.02 error = 62.02 [T]\n",
            "63 LXIIICCCC => -0.02 error = 63.02 [T]\n",
            "64 LXIVCCCCC => -0.02 error = 64.02 [T]\n",
            "65 LXVCCCCCC => -0.02 error = 65.02 [T]\n",
            "66 LXVICCCCC => -0.02 error = 66.02 \n",
            "67 LXVIICCCC => -0.02 error = 67.02 \n",
            "68 LXVIIICCC => -0.03 error = 68.03 [T]\n",
            "69 LXIXCCCCC => -0.02 error = 69.02 \n",
            "70 LXXCCCCCC => -0.02 error = 70.02 [T]\n",
            "71 LXXICCCCC => -0.03 error = 71.03 [T]\n",
            "72 LXXIICCCC => -0.03 error = 72.03 [T]\n",
            "73 LXXIIICCC => -0.03 error = 73.03 \n",
            "74 LXXIVCCCC => -0.03 error = 74.03 [T]\n",
            "75 LXXVCCCCC => -0.03 error = 75.03 [T]\n",
            "76 LXXVICCCC => -0.03 error = 76.03 [T]\n",
            "77 LXXVIICCC => -0.03 error = 77.03 [T]\n",
            "78 LXXVIIICC => -0.03 error = 78.03 \n",
            "79 LXXIXCCCC => -0.03 error = 79.03 [T]\n",
            "80 LXXXCCCCC => -0.03 error = 80.03 [T]\n",
            "81 LXXXICCCC => -0.03 error = 81.03 \n",
            "82 LXXXIICCC => -0.04 error = 82.04 \n",
            "83 LXXXIIICC => -0.04 error = 83.04 [T]\n",
            "84 LXXXIVCCC => -0.04 error = 84.04 \n",
            "85 LXXXVCCCC => -0.04 error = 85.04 [T]\n",
            "86 LXXXVICCC => -0.04 error = 86.04 [T]\n",
            "87 LXXXVIICC => -0.04 error = 87.04 [T]\n",
            "88 LXXXVIIIC => -0.04 error = 88.04 [T]\n",
            "89 LXXXIXCCC => -0.04 error = 89.04 \n",
            "90 XCCCCCCCC => -0.01 error = 90.01 \n",
            "91 XCICCCCCC => -0.01 error = 91.01 [T]\n",
            "92 XCIICCCCC => -0.01 error = 92.01 [T]\n",
            "93 XCIIICCCC => -0.01 error = 93.01 \n",
            "94 XCIVCCCCC => -0.02 error = 94.02 \n",
            "95 XCVCCCCCC => -0.02 error = 95.02 \n",
            "96 XCVICCCCC => -0.02 error = 96.02 [T]\n",
            "97 XCVIICCCC => -0.02 error = 97.02 \n",
            "98 XCVIIICCC => -0.02 error = 98.02 \n",
            "99 XCIXCCCCC => -0.02 error = 99.02 \n",
            "100 CCCCCCCCC => 0.00 error = 100.00 [T]\n",
            "101 CICCCCCCC => -0.00 error = 101.00 [T]\n",
            "102 CIICCCCCC => -0.00 error = 102.00 \n",
            "103 CIIICCCCC => -0.01 error = 103.01 \n",
            "104 CIVCCCCCC => -0.01 error = 104.01 [T]\n",
            "105 CVCCCCCCC => -0.01 error = 105.01 \n",
            "106 CVICCCCCC => -0.01 error = 106.01 \n",
            "107 CVIICCCCC => -0.01 error = 107.01 \n",
            "108 CVIIICCCC => -0.01 error = 108.01 \n",
            "109 CIXCCCCCC => -0.01 error = 109.01 [T]\n",
            "110 CXCCCCCCC => -0.01 error = 110.01 \n",
            "111 CXICCCCCC => -0.01 error = 111.01 [T]\n",
            "112 CXIICCCCC => -0.01 error = 112.01 [T]\n",
            "113 CXIIICCCC => -0.02 error = 113.02 \n",
            "114 CXIVCCCCC => -0.02 error = 114.02 \n",
            "115 CXVCCCCCC => -0.02 error = 115.02 [T]\n",
            "116 CXVICCCCC => -0.02 error = 116.02 \n",
            "117 CXVIICCCC => -0.02 error = 117.02 \n",
            "118 CXVIIICCC => -0.02 error = 118.02 \n",
            "119 CXIXCCCCC => -0.02 error = 119.02 \n",
            "120 CXXCCCCCC => -0.02 error = 120.02 \n",
            "121 CXXICCCCC => -0.02 error = 121.02 [T]\n",
            "122 CXXIICCCC => -0.02 error = 122.02 \n",
            "123 CXXIIICCC => -0.02 error = 123.02 \n",
            "124 CXXIVCCCC => -0.03 error = 124.03 \n",
            "125 CXXVCCCCC => -0.03 error = 125.03 [T]\n",
            "126 CXXVICCCC => -0.03 error = 126.03 [T]\n",
            "127 CXXVIICCC => -0.03 error = 127.03 \n",
            "128 CXXVIIICC => -0.03 error = 128.03 [T]\n",
            "129 CXXIXCCCC => -0.03 error = 129.03 [T]\n",
            "130 CXXXCCCCC => -0.03 error = 130.03 [T]\n",
            "131 CXXXICCCC => -0.03 error = 131.03 [T]\n",
            "132 CXXXIICCC => -0.03 error = 132.03 \n",
            "133 CXXXIIICC => -0.03 error = 133.03 [T]\n",
            "134 CXXXIVCCC => -0.03 error = 134.03 [T]\n",
            "135 CXXXVCCCC => -0.03 error = 135.03 [T]\n",
            "136 CXXXVICCC => -0.03 error = 136.03 \n",
            "137 CXXXVIICC => -0.04 error = 137.04 [T]\n",
            "138 CXXXVIIIC => -0.03 error = 138.03 \n",
            "139 CXXXIXCCC => -0.04 error = 139.04 [T]\n",
            "140 CXLCCCCCC => -0.01 error = 140.01 [T]\n",
            "141 CXLICCCCC => -0.02 error = 141.02 [T]\n",
            "142 CXLIICCCC => -0.02 error = 142.02 [T]\n",
            "143 CXLIIICCC => -0.02 error = 143.02 [T]\n",
            "144 CXLIVCCCC => -0.02 error = 144.02 [T]\n",
            "145 CXLVCCCCC => -0.02 error = 145.02 [T]\n",
            "146 CXLVICCCC => -0.02 error = 146.02 [T]\n",
            "147 CXLVIICCC => -0.02 error = 147.02 [T]\n",
            "148 CXLVIIICC => -0.02 error = 148.02 \n",
            "149 CXLIXCCCC => -0.02 error = 149.02 [T]\n",
            "150 CLCCCCCCC => -0.00 error = 150.00 [T]\n",
            "151 CLICCCCCC => -0.01 error = 151.01 [T]\n",
            "152 CLIICCCCC => -0.01 error = 152.01 [T]\n",
            "153 CLIIICCCC => -0.01 error = 153.01 \n",
            "154 CLIVCCCCC => -0.01 error = 154.01 \n",
            "155 CLVCCCCCC => -0.01 error = 155.01 [T]\n",
            "156 CLVICCCCC => -0.01 error = 156.01 [T]\n",
            "157 CLVIICCCC => -0.02 error = 157.02 [T]\n",
            "158 CLVIIICCC => -0.02 error = 158.02 \n",
            "159 CLIXCCCCC => -0.02 error = 159.02 \n",
            "160 CLXCCCCCC => -0.01 error = 160.01 [T]\n",
            "161 CLXICCCCC => -0.02 error = 161.02 \n",
            "162 CLXIICCCC => -0.02 error = 162.02 \n",
            "163 CLXIIICCC => -0.02 error = 163.02 [T]\n",
            "164 CLXIVCCCC => -0.02 error = 164.02 [T]\n",
            "165 CLXVCCCCC => -0.02 error = 165.02 \n",
            "166 CLXVICCCC => -0.02 error = 166.02 \n",
            "167 CLXVIICCC => -0.02 error = 167.02 [T]\n",
            "168 CLXVIIICC => -0.02 error = 168.02 \n",
            "169 CLXIXCCCC => -0.02 error = 169.02 [T]\n",
            "170 CLXXCCCCC => -0.02 error = 170.02 [T]\n",
            "171 CLXXICCCC => -0.02 error = 171.02 \n",
            "172 CLXXIICCC => -0.03 error = 172.03 \n",
            "173 CLXXIIICC => -0.03 error = 173.03 \n",
            "174 CLXXIVCCC => -0.03 error = 174.03 \n",
            "175 CLXXVCCCC => -0.03 error = 175.03 [T]\n",
            "176 CLXXVICCC => -0.03 error = 176.03 \n",
            "177 CLXXVIICC => -0.03 error = 177.03 \n",
            "178 CLXXVIIIC => -0.03 error = 178.03 [T]\n",
            "179 CLXXIXCCC => -0.03 error = 179.03 \n",
            "180 CLXXXCCCC => -0.03 error = 180.03 [T]\n",
            "181 CLXXXICCC => -0.03 error = 181.03 \n",
            "182 CLXXXIICC => -0.03 error = 182.03 [T]\n",
            "183 CLXXXIIIC => -0.03 error = 183.03 \n",
            "184 CLXXXIVCC => -0.03 error = 184.03 \n",
            "185 CLXXXVCCC => -0.04 error = 185.04 \n",
            "186 CLXXXVICC => -0.04 error = 186.04 \n",
            "187 CLXXXVIIC => -0.04 error = 187.04 \n",
            "188 CLXXXVIII => -0.03 error = 188.03 [T]\n",
            "189 CLXXXIXCC => -0.04 error = 189.04 \n",
            "190 CXCCCCCCC => -0.01 error = 190.01 [T]\n",
            "191 CXCICCCCC => -0.01 error = 191.01 \n",
            "192 CXCIICCCC => -0.01 error = 192.01 [T]\n",
            "193 CXCIIICCC => -0.01 error = 193.01 \n",
            "194 CXCIVCCCC => -0.02 error = 194.02 \n",
            "195 CXCVCCCCC => -0.02 error = 195.02 \n",
            "196 CXCVICCCC => -0.02 error = 196.02 [T]\n",
            "197 CXCVIICCC => -0.02 error = 197.02 \n",
            "198 CXCVIIICC => -0.02 error = 198.02 \n",
            "199 CXCIXCCCC => -0.02 error = 199.02 \n",
            "Mean error = 99.52142\n"
          ]
        },
        {
          "output_type": "execute_result",
          "data": {
            "text/plain": [
              "99.52142"
            ]
          },
          "metadata": {},
          "execution_count": 13
        }
      ],
      "source": [
        "import random\n",
        "\n",
        "def check_model(verbose=0,how_many=10):\n",
        "    pred = model.predict(samples)\n",
        "    print('text => [predicted value] error=[error]')\n",
        "    error = []\n",
        "    for i in range(len(pred)):\n",
        "        res = samples[i]\n",
        "        error.append(abs(i-pred[i]))\n",
        "        if verbose==1:\n",
        "            train = ''\n",
        "            if i in trainLabels: train='[T]'\n",
        "            print(i,to_text(res),'=> {:.2f} error = {:.2f}'.format(pred[i,0],abs(i-pred[i,0])),train)\n",
        "    if verbose<1: # if not verbose just display 'how_many' random samples\n",
        "        for i in range(how_many):\n",
        "            x = random.randrange(DATASET_SIZE)\n",
        "            res = samples[x]\n",
        "            print(to_text(res),'=>  {:.2f} error = {:.2f}'.format(pred[x,0],abs(x-pred[x,0])))\n",
        "    print('Mean error =',np.mean(error))\n",
        "    return np.mean(error)\n",
        "check_model(1)"
      ]
    },
    {
      "cell_type": "code",
      "execution_count": null,
      "metadata": {
        "colab": {
          "base_uri": "https://localhost:8080/"
        },
        "id": "QQQc6v4SWnAp",
        "outputId": "30601a80-8f52-471e-acce-c99dbfba92c5"
      },
      "outputs": [
        {
          "output_type": "stream",
          "name": "stdout",
          "text": [
            "Training with 100 samples 1000 epochs and batch_size= 25\n",
            "\n",
            "0/10 Epochs: 2000 - loss=50.967, loss improvement=19.027\n",
            "7/7 [==============================] - 0s 11ms/step\n",
            "text => [predicted value] error=[error]\n",
            "CLXVIIICC =>  166.86 error = 1.14\n",
            "CXLIICCCC =>  142.45 error = 0.45\n",
            "CIIICCCCC =>  100.33 error = 2.67\n",
            "XCVIIICCC =>  86.30 error = 11.70\n",
            "XVIICCCCC =>  23.68 error = 6.68\n",
            "CXCVIICCC =>  194.34 error = 2.66\n",
            "XCIIICCCC =>  89.48 error = 3.52\n",
            "XVIIICCCC =>  26.87 error = 8.87\n",
            "CIIICCCCC =>  100.33 error = 2.67\n",
            "CLIVCCCCC =>  151.64 error = 2.36\n",
            "Mean error = 6.932182\n",
            "\n",
            "1/10 Epochs: 3000 - loss=50.549, loss improvement= 0.477\n",
            "7/7 [==============================] - 0s 10ms/step\n",
            "text => [predicted value] error=[error]\n",
            "CXXXIIICC =>  132.33 error = 0.67\n",
            "CXICCCCCC =>  110.89 error = 0.11\n",
            "VICCCCCCC =>  6.02 error = 0.02\n",
            "CLXXXVIII =>  188.03 error = 0.03\n",
            "XCIICCCCC =>  92.27 error = 0.27\n",
            "CXCICCCCC =>  189.82 error = 1.18\n",
            "VICCCCCCC =>  6.02 error = 0.02\n",
            "XXXVIIICC =>  38.49 error = 0.49\n",
            "CLXXVCCCC =>  175.87 error = 0.87\n",
            "IVCCCCCCC =>  20.07 error = 16.07\n",
            "Mean error = 6.0975103\n",
            "\n",
            "2/10 Epochs: 4000 - loss=51.078, loss improvement=-0.711\n",
            "7/7 [==============================] - 0s 10ms/step\n",
            "text => [predicted value] error=[error]\n",
            "XXIVCCCCC =>  23.79 error = 0.21\n",
            "CXXIVCCCC =>  124.39 error = 0.39\n",
            "CXXIIICCC =>  122.38 error = 0.62\n",
            "XLCCCCCCC =>  43.37 error = 3.37\n",
            "LXXXIIICC =>  81.12 error = 1.88\n",
            "CXVCCCCCC =>  114.72 error = 0.28\n",
            "XVIICCCCC =>  19.07 error = 2.07\n",
            "XXVIIICCC =>  26.13 error = 1.87\n",
            "CXLVICCCC =>  145.66 error = 0.34\n",
            "CLXXXIICC =>  183.01 error = 1.01\n",
            "Mean error = 6.115481\n",
            "\n",
            "3/10 Epochs: 5000 - loss=50.251, loss improvement= 0.901\n",
            "7/7 [==============================] - 0s 10ms/step\n",
            "text => [predicted value] error=[error]\n",
            "LIICCCCCC =>  51.95 error = 0.05\n",
            "CXXXICCCC =>  131.34 error = 0.34\n",
            "CLVIICCCC =>  156.99 error = 0.01\n",
            "CXXIVCCCC =>  126.42 error = 2.42\n",
            "ICCCCCCCC =>  0.99 error = 0.01\n",
            "LXXXVIICC =>  87.02 error = 0.02\n",
            "CLIICCCCC =>  152.18 error = 0.18\n",
            "CLXXXIIIC =>  183.04 error = 0.04\n",
            "XXVCCCCCC =>  25.01 error = 0.01\n",
            "LXXXIVCCC =>  84.36 error = 0.36\n",
            "Mean error = 5.7904286\n",
            "\n",
            "4/10 Epochs: 6000 - loss=50.076, loss improvement= 0.308\n",
            "7/7 [==============================] - 0s 11ms/step\n",
            "text => [predicted value] error=[error]\n",
            "CXXXIICCC =>  132.14 error = 0.14\n",
            "CLVCCCCCC =>  155.17 error = 0.17\n",
            "XVIIICCCC =>  21.15 error = 3.15\n",
            "XXXIICCCC =>  32.09 error = 0.09\n",
            "XLIICCCCC =>  42.74 error = 0.74\n",
            "CXXXICCCC =>  131.48 error = 0.48\n",
            "CXLIVCCCC =>  144.47 error = 0.47\n",
            "CXXXIVCCC =>  134.56 error = 0.56\n",
            "XCICCCCCC =>  91.00 error = 0.00\n",
            "CVICCCCCC =>  170.96 error = 64.96\n",
            "Mean error = 5.56155\n",
            "\n",
            "5/10 Epochs: 7000 - loss=50.168, loss improvement= 0.135\n",
            "7/7 [==============================] - 0s 10ms/step\n",
            "text => [predicted value] error=[error]\n",
            "XCCCCCCCC =>  9.92 error = 80.08\n",
            "CXXVCCCCC =>  124.98 error = 0.02\n",
            "CXLCCCCCC =>  139.82 error = 0.18\n",
            "CLVIICCCC =>  157.14 error = 0.14\n",
            "CLXXIXCCC =>  177.23 error = 1.77\n",
            "CLXXXVIII =>  188.17 error = 0.17\n",
            "XLIVCCCCC =>  47.36 error = 3.36\n",
            "LVICCCCCC =>  53.99 error = 2.01\n",
            "XXXCCCCCC =>  29.87 error = 0.13\n",
            "CXLICCCCC =>  141.23 error = 0.23\n",
            "Mean error = 5.3180385\n",
            "\n",
            "6/10 Epochs: 8000 - loss=138.875, loss improvement=-88.751\n",
            "7/7 [==============================] - 0s 10ms/step\n",
            "text => [predicted value] error=[error]\n",
            "CXICCCCCC =>  117.26 error = 6.26\n",
            "LXXXIIICC =>  71.08 error = 11.92\n",
            "XCVCCCCCC =>  13.22 error = 81.78\n",
            "XXVIIICCC =>  80.53 error = 52.53\n",
            "XLVIIICCC =>  69.34 error = 21.34\n",
            "XXXIIICCC =>  73.08 error = 40.08\n",
            "CXXXVICCC =>  139.16 error = 3.16\n",
            "XXXIVCCCC =>  74.57 error = 40.57\n",
            "XXVICCCCC =>  81.75 error = 55.75\n",
            "LXIIICCCC =>  58.47 error = 4.53\n",
            "Mean error = 20.896757\n",
            "\n",
            "7/10 Epochs: 9000 - loss=50.058, loss improvement=490.576\n",
            "7/7 [==============================] - 0s 11ms/step\n",
            "text => [predicted value] error=[error]\n",
            "CLIIICCCC =>  152.68 error = 0.32\n",
            "CXXICCCCC =>  120.93 error = 0.07\n",
            "IXCCCCCCC =>  9.00 error = 0.00\n",
            "CLXXXVICC =>  187.84 error = 1.84\n",
            "CLXVIICCC =>  167.04 error = 0.04\n",
            "CVIIICCCC =>  177.88 error = 69.88\n",
            "CLXXVIIIC =>  178.13 error = 0.13\n",
            "CLXXXCCCC =>  179.89 error = 0.11\n",
            "XXVIIICCC =>  29.28 error = 1.28\n",
            "CXXVICCCC =>  126.11 error = 0.11\n",
            "Mean error = 5.21259\n",
            "\n",
            "8/10 Epochs: 10000 - loss=50.177, loss improvement=-0.027\n",
            "7/7 [==============================] - 0s 11ms/step\n",
            "text => [predicted value] error=[error]\n",
            "LXXIXCCCC =>  78.83 error = 0.17\n",
            "CLXXVICCC =>  176.45 error = 0.45\n",
            "CLXXXVICC =>  187.47 error = 1.47\n",
            "CIVCCCCCC =>  104.08 error = 0.08\n",
            "CXXXIVCCC =>  134.05 error = 0.05\n",
            "CXXXIIICC =>  132.65 error = 0.35\n",
            "XXICCCCCC =>  21.03 error = 0.03\n",
            "XCIXCCCCC =>  93.82 error = 5.18\n",
            "CLXXXVICC =>  187.47 error = 1.47\n",
            "CXVIICCCC =>  132.18 error = 15.18\n",
            "Mean error = 6.1881104\n",
            "\n",
            "9/10 Epochs: 11000 - loss=50.147, loss improvement=-0.026\n",
            "7/7 [==============================] - 0s 14ms/step\n",
            "text => [predicted value] error=[error]\n",
            "XXIICCCCC =>  21.89 error = 0.11\n",
            "XCCCCCCCC =>  9.59 error = 0.41\n",
            "CIXCCCCCC =>  108.92 error = 0.08\n",
            "CXVIICCCC =>  132.44 error = 15.44\n",
            "CLVIIICCC =>  159.90 error = 1.90\n",
            "CLIICCCCC =>  152.08 error = 0.08\n",
            "LXXVIIICC =>  78.05 error = 0.05\n",
            "CLXVCCCCC =>  168.15 error = 3.15\n",
            "XXXVICCCC =>  37.37 error = 1.37\n",
            "CLXXICCCC =>  168.86 error = 2.14\n",
            "Mean error = 6.096251\n",
            "Done\n"
          ]
        }
      ],
      "source": [
        "EPOCHS=1000\n",
        "BATCH_SIZE = int(len(trainSamples)/4)\n",
        "print('Training with',len(trainSamples),'samples',EPOCHS,'epochs and batch_size=',BATCH_SIZE)\n",
        "for x in range(10):\n",
        "    H = model.fit(trainSamples, trainLabels, epochs=EPOCHS,verbose=0,batch_size=BATCH_SIZE)\n",
        "    num_epochs += EPOCHS\n",
        "    print(\"\\n{}/10 Epochs: {} - loss={:6.3f}, loss improvement={:6.3f}\".\n",
        "          format(x, num_epochs,H.history['loss'][-1], H.history['loss'][0]-H.history['loss'][-1]))\n",
        "    check_model()\n",
        "print(\"Done\")"
      ]
    },
    {
      "cell_type": "code",
      "execution_count": null,
      "metadata": {
        "id": "rKThoiv0WnAr",
        "outputId": "5d82667b-efad-497a-b374-06699e474447",
        "colab": {
          "base_uri": "https://localhost:8080/"
        }
      },
      "outputs": [
        {
          "output_type": "stream",
          "name": "stdout",
          "text": [
            "1/1 [==============================] - 1s 781ms/step\n"
          ]
        },
        {
          "output_type": "execute_result",
          "data": {
            "text/plain": [
              "array([[111.03359]], dtype=float32)"
            ]
          },
          "metadata": {},
          "execution_count": 16
        }
      ],
      "source": [
        "\n",
        "#x = to_number('one hundred thirty nine      ')\n",
        "#x = to_number('one hundred ninety nine     ')\n",
        "x = to_number('XX')\n",
        "\n",
        "#              xxxxxxxxxxxxxxxxxxxxxxxxxxxxx\n",
        "x = np.expand_dims(x,axis=1)\n",
        "x = np.expand_dims(x,axis=0)\n",
        "model.predict(x)"
      ]
    },
    {
      "cell_type": "code",
      "execution_count": null,
      "metadata": {
        "id": "DmLHpCu2WnAs"
      },
      "outputs": [],
      "source": [
        "model.save('model_words2numbers.h5')"
      ]
    }
  ],
  "metadata": {
    "colab": {
      "provenance": [],
      "include_colab_link": true
    },
    "kernelspec": {
      "display_name": "Python 3",
      "language": "python",
      "name": "python3"
    },
    "language_info": {
      "codemirror_mode": {
        "name": "ipython",
        "version": 3
      },
      "file_extension": ".py",
      "mimetype": "text/x-python",
      "name": "python",
      "nbconvert_exporter": "python",
      "pygments_lexer": "ipython3",
      "version": "3.8.5"
    }
  },
  "nbformat": 4,
  "nbformat_minor": 0
}