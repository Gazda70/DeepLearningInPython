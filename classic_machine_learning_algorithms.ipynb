{
  "cells": [
    {
      "cell_type": "markdown",
      "metadata": {
        "id": "view-in-github",
        "colab_type": "text"
      },
      "source": [
        "<a href=\"https://colab.research.google.com/github/Gazda70/DeepLearningInPython/blob/main/classic_machine_learning_algorithms.ipynb\" target=\"_parent\"><img src=\"https://colab.research.google.com/assets/colab-badge.svg\" alt=\"Open In Colab\"/></a>"
      ]
    },
    {
      "cell_type": "code",
      "execution_count": null,
      "metadata": {
        "id": "QLYSoolYR46B"
      },
      "outputs": [],
      "source": [
        "import pandas as pd\n",
        "import numpy as np\n",
        "import sklearn as sk\n",
        "import matplotlib.pyplot as plt\n",
        "from sklearn.model_selection import train_test_split"
      ]
    },
    {
      "cell_type": "code",
      "execution_count": null,
      "metadata": {
        "id": "ZKN1h6mJUAVO"
      },
      "outputs": [],
      "source": [
        "from sklearn.discriminant_analysis import LinearDiscriminantAnalysis\n",
        "from sklearn.ensemble import RandomForestClassifier\n",
        "from sklearn.ensemble import GradientBoostingClassifier\n",
        "from sklearn.linear_model import Perceptron\n",
        "from sklearn.naive_bayes import GaussianNB\n",
        "from sklearn.neighbors import KNeighborsClassifier\n",
        "from sklearn.svm import SVC\n",
        "from sklearn.tree import DecisionTreeClassifier\n",
        "from sklearn.model_selection import cross_val_score"
      ]
    },
    {
      "cell_type": "code",
      "execution_count": null,
      "metadata": {
        "id": "HdirxTtXY6tn"
      },
      "outputs": [],
      "source": [
        "from google.colab import drive"
      ]
    },
    {
      "cell_type": "code",
      "execution_count": null,
      "metadata": {
        "colab": {
          "base_uri": "https://localhost:8080/"
        },
        "id": "NEpLT1fWYLpc",
        "outputId": "0fbd182b-eadb-44a2-e02f-aa2a571c69c1"
      },
      "outputs": [
        {
          "name": "stdout",
          "output_type": "stream",
          "text": [
            "Archive:  /content/emvic.zip\n",
            "  End-of-central-directory signature not found.  Either this file is not\n",
            "  a zipfile, or it constitutes one disk of a multi-part archive.  In the\n",
            "  latter case the central directory and zipfile comment will be found on\n",
            "  the last disk(s) of this archive.\n",
            "unzip:  cannot find zipfile directory in one of /content/emvic.zip or\n",
            "        /content/emvic.zip.zip, and cannot find /content/emvic.zip.ZIP, period.\n"
          ]
        }
      ],
      "source": [
        "!unzip /content/emvic.zip"
      ]
    },
    {
      "cell_type": "code",
      "execution_count": null,
      "metadata": {
        "colab": {
          "base_uri": "https://localhost:8080/"
        },
        "id": "lBh79LtXY-Mj",
        "outputId": "e0060c95-6db6-4241-9279-adcfcb4dc79d"
      },
      "outputs": [
        {
          "name": "stdout",
          "output_type": "stream",
          "text": [
            "Drive already mounted at /content/gdrive; to attempt to forcibly remount, call drive.mount(\"/content/gdrive\", force_remount=True).\n"
          ]
        }
      ],
      "source": [
        "drive.mount('/content/gdrive')"
      ]
    },
    {
      "cell_type": "code",
      "execution_count": null,
      "metadata": {
        "id": "K_8sgceYTfut"
      },
      "outputs": [],
      "source": [
        "#FILE=\"/content/gdrive/MyDrive/Lab2DLiP/emvic.data\"\n",
        "FILE=\"/content/emvic.data\""
      ]
    },
    {
      "cell_type": "code",
      "execution_count": null,
      "metadata": {
        "colab": {
          "base_uri": "https://localhost:8080/",
          "height": 424
        },
        "id": "ZjpG3Q86TWik",
        "outputId": "327cdece-e0fb-4732-ccab-28dc51f64563"
      },
      "outputs": [
        {
          "data": {
            "text/html": [
              "\n",
              "  <div id=\"df-1f75ac0b-19ba-4ef7-a636-d7fe4913a218\">\n",
              "    <div class=\"colab-df-container\">\n",
              "      <div>\n",
              "<style scoped>\n",
              "    .dataframe tbody tr th:only-of-type {\n",
              "        vertical-align: middle;\n",
              "    }\n",
              "\n",
              "    .dataframe tbody tr th {\n",
              "        vertical-align: top;\n",
              "    }\n",
              "\n",
              "    .dataframe thead th {\n",
              "        text-align: right;\n",
              "    }\n",
              "</style>\n",
              "<table border=\"1\" class=\"dataframe\">\n",
              "  <thead>\n",
              "    <tr style=\"text-align: right;\">\n",
              "      <th></th>\n",
              "      <th>0</th>\n",
              "      <th>1</th>\n",
              "      <th>2</th>\n",
              "      <th>3</th>\n",
              "      <th>4</th>\n",
              "      <th>5</th>\n",
              "      <th>6</th>\n",
              "      <th>7</th>\n",
              "      <th>8</th>\n",
              "      <th>9</th>\n",
              "      <th>...</th>\n",
              "      <th>12279</th>\n",
              "      <th>12280</th>\n",
              "      <th>12281</th>\n",
              "      <th>12282</th>\n",
              "      <th>12283</th>\n",
              "      <th>12284</th>\n",
              "      <th>12285</th>\n",
              "      <th>12286</th>\n",
              "      <th>12287</th>\n",
              "      <th>12288</th>\n",
              "    </tr>\n",
              "  </thead>\n",
              "  <tbody>\n",
              "    <tr>\n",
              "      <th>0</th>\n",
              "      <td>a25</td>\n",
              "      <td>0</td>\n",
              "      <td>0</td>\n",
              "      <td>0</td>\n",
              "      <td>0</td>\n",
              "      <td>0</td>\n",
              "      <td>0</td>\n",
              "      <td>0</td>\n",
              "      <td>0</td>\n",
              "      <td>0</td>\n",
              "      <td>...</td>\n",
              "      <td>-20</td>\n",
              "      <td>-20</td>\n",
              "      <td>-20</td>\n",
              "      <td>-20</td>\n",
              "      <td>-19</td>\n",
              "      <td>-20</td>\n",
              "      <td>-22</td>\n",
              "      <td>-19</td>\n",
              "      <td>-22</td>\n",
              "      <td>-23</td>\n",
              "    </tr>\n",
              "    <tr>\n",
              "      <th>1</th>\n",
              "      <td>a25</td>\n",
              "      <td>0</td>\n",
              "      <td>0</td>\n",
              "      <td>0</td>\n",
              "      <td>0</td>\n",
              "      <td>0</td>\n",
              "      <td>0</td>\n",
              "      <td>0</td>\n",
              "      <td>0</td>\n",
              "      <td>0</td>\n",
              "      <td>...</td>\n",
              "      <td>-74</td>\n",
              "      <td>-73</td>\n",
              "      <td>-75</td>\n",
              "      <td>-73</td>\n",
              "      <td>-72</td>\n",
              "      <td>-72</td>\n",
              "      <td>-69</td>\n",
              "      <td>-67</td>\n",
              "      <td>-67</td>\n",
              "      <td>-70</td>\n",
              "    </tr>\n",
              "    <tr>\n",
              "      <th>2</th>\n",
              "      <td>a25</td>\n",
              "      <td>0</td>\n",
              "      <td>0</td>\n",
              "      <td>0</td>\n",
              "      <td>0</td>\n",
              "      <td>0</td>\n",
              "      <td>0</td>\n",
              "      <td>0</td>\n",
              "      <td>0</td>\n",
              "      <td>0</td>\n",
              "      <td>...</td>\n",
              "      <td>-51</td>\n",
              "      <td>-52</td>\n",
              "      <td>-54</td>\n",
              "      <td>-51</td>\n",
              "      <td>-54</td>\n",
              "      <td>-54</td>\n",
              "      <td>-54</td>\n",
              "      <td>-53</td>\n",
              "      <td>-52</td>\n",
              "      <td>-54</td>\n",
              "    </tr>\n",
              "    <tr>\n",
              "      <th>3</th>\n",
              "      <td>a25</td>\n",
              "      <td>0</td>\n",
              "      <td>0</td>\n",
              "      <td>0</td>\n",
              "      <td>0</td>\n",
              "      <td>0</td>\n",
              "      <td>0</td>\n",
              "      <td>0</td>\n",
              "      <td>0</td>\n",
              "      <td>0</td>\n",
              "      <td>...</td>\n",
              "      <td>74</td>\n",
              "      <td>74</td>\n",
              "      <td>74</td>\n",
              "      <td>74</td>\n",
              "      <td>74</td>\n",
              "      <td>74</td>\n",
              "      <td>75</td>\n",
              "      <td>71</td>\n",
              "      <td>76</td>\n",
              "      <td>74</td>\n",
              "    </tr>\n",
              "    <tr>\n",
              "      <th>4</th>\n",
              "      <td>a25</td>\n",
              "      <td>0</td>\n",
              "      <td>0</td>\n",
              "      <td>0</td>\n",
              "      <td>0</td>\n",
              "      <td>0</td>\n",
              "      <td>0</td>\n",
              "      <td>0</td>\n",
              "      <td>0</td>\n",
              "      <td>0</td>\n",
              "      <td>...</td>\n",
              "      <td>129</td>\n",
              "      <td>130</td>\n",
              "      <td>130</td>\n",
              "      <td>133</td>\n",
              "      <td>131</td>\n",
              "      <td>129</td>\n",
              "      <td>124</td>\n",
              "      <td>124</td>\n",
              "      <td>122</td>\n",
              "      <td>117</td>\n",
              "    </tr>\n",
              "    <tr>\n",
              "      <th>...</th>\n",
              "      <td>...</td>\n",
              "      <td>...</td>\n",
              "      <td>...</td>\n",
              "      <td>...</td>\n",
              "      <td>...</td>\n",
              "      <td>...</td>\n",
              "      <td>...</td>\n",
              "      <td>...</td>\n",
              "      <td>...</td>\n",
              "      <td>...</td>\n",
              "      <td>...</td>\n",
              "      <td>...</td>\n",
              "      <td>...</td>\n",
              "      <td>...</td>\n",
              "      <td>...</td>\n",
              "      <td>...</td>\n",
              "      <td>...</td>\n",
              "      <td>...</td>\n",
              "      <td>...</td>\n",
              "      <td>...</td>\n",
              "      <td>...</td>\n",
              "    </tr>\n",
              "    <tr>\n",
              "      <th>411</th>\n",
              "      <td>a41</td>\n",
              "      <td>0</td>\n",
              "      <td>0</td>\n",
              "      <td>0</td>\n",
              "      <td>0</td>\n",
              "      <td>0</td>\n",
              "      <td>0</td>\n",
              "      <td>0</td>\n",
              "      <td>0</td>\n",
              "      <td>0</td>\n",
              "      <td>...</td>\n",
              "      <td>83</td>\n",
              "      <td>81</td>\n",
              "      <td>80</td>\n",
              "      <td>82</td>\n",
              "      <td>80</td>\n",
              "      <td>82</td>\n",
              "      <td>82</td>\n",
              "      <td>80</td>\n",
              "      <td>81</td>\n",
              "      <td>79</td>\n",
              "    </tr>\n",
              "    <tr>\n",
              "      <th>412</th>\n",
              "      <td>a41</td>\n",
              "      <td>0</td>\n",
              "      <td>0</td>\n",
              "      <td>0</td>\n",
              "      <td>0</td>\n",
              "      <td>0</td>\n",
              "      <td>0</td>\n",
              "      <td>0</td>\n",
              "      <td>0</td>\n",
              "      <td>0</td>\n",
              "      <td>...</td>\n",
              "      <td>9</td>\n",
              "      <td>9</td>\n",
              "      <td>8</td>\n",
              "      <td>11</td>\n",
              "      <td>8</td>\n",
              "      <td>9</td>\n",
              "      <td>12</td>\n",
              "      <td>10</td>\n",
              "      <td>15</td>\n",
              "      <td>12</td>\n",
              "    </tr>\n",
              "    <tr>\n",
              "      <th>413</th>\n",
              "      <td>a41</td>\n",
              "      <td>0</td>\n",
              "      <td>0</td>\n",
              "      <td>0</td>\n",
              "      <td>0</td>\n",
              "      <td>0</td>\n",
              "      <td>0</td>\n",
              "      <td>0</td>\n",
              "      <td>0</td>\n",
              "      <td>0</td>\n",
              "      <td>...</td>\n",
              "      <td>223</td>\n",
              "      <td>223</td>\n",
              "      <td>222</td>\n",
              "      <td>223</td>\n",
              "      <td>225</td>\n",
              "      <td>227</td>\n",
              "      <td>230</td>\n",
              "      <td>229</td>\n",
              "      <td>227</td>\n",
              "      <td>226</td>\n",
              "    </tr>\n",
              "    <tr>\n",
              "      <th>414</th>\n",
              "      <td>a41</td>\n",
              "      <td>0</td>\n",
              "      <td>0</td>\n",
              "      <td>0</td>\n",
              "      <td>0</td>\n",
              "      <td>0</td>\n",
              "      <td>0</td>\n",
              "      <td>0</td>\n",
              "      <td>0</td>\n",
              "      <td>0</td>\n",
              "      <td>...</td>\n",
              "      <td>440</td>\n",
              "      <td>438</td>\n",
              "      <td>440</td>\n",
              "      <td>440</td>\n",
              "      <td>439</td>\n",
              "      <td>441</td>\n",
              "      <td>442</td>\n",
              "      <td>446</td>\n",
              "      <td>445</td>\n",
              "      <td>445</td>\n",
              "    </tr>\n",
              "    <tr>\n",
              "      <th>415</th>\n",
              "      <td>a41</td>\n",
              "      <td>0</td>\n",
              "      <td>0</td>\n",
              "      <td>0</td>\n",
              "      <td>0</td>\n",
              "      <td>0</td>\n",
              "      <td>0</td>\n",
              "      <td>0</td>\n",
              "      <td>0</td>\n",
              "      <td>0</td>\n",
              "      <td>...</td>\n",
              "      <td>613</td>\n",
              "      <td>612</td>\n",
              "      <td>610</td>\n",
              "      <td>600</td>\n",
              "      <td>589</td>\n",
              "      <td>581</td>\n",
              "      <td>575</td>\n",
              "      <td>575</td>\n",
              "      <td>577</td>\n",
              "      <td>578</td>\n",
              "    </tr>\n",
              "  </tbody>\n",
              "</table>\n",
              "<p>416 rows × 12289 columns</p>\n",
              "</div>\n",
              "      <button class=\"colab-df-convert\" onclick=\"convertToInteractive('df-1f75ac0b-19ba-4ef7-a636-d7fe4913a218')\"\n",
              "              title=\"Convert this dataframe to an interactive table.\"\n",
              "              style=\"display:none;\">\n",
              "        \n",
              "  <svg xmlns=\"http://www.w3.org/2000/svg\" height=\"24px\"viewBox=\"0 0 24 24\"\n",
              "       width=\"24px\">\n",
              "    <path d=\"M0 0h24v24H0V0z\" fill=\"none\"/>\n",
              "    <path d=\"M18.56 5.44l.94 2.06.94-2.06 2.06-.94-2.06-.94-.94-2.06-.94 2.06-2.06.94zm-11 1L8.5 8.5l.94-2.06 2.06-.94-2.06-.94L8.5 2.5l-.94 2.06-2.06.94zm10 10l.94 2.06.94-2.06 2.06-.94-2.06-.94-.94-2.06-.94 2.06-2.06.94z\"/><path d=\"M17.41 7.96l-1.37-1.37c-.4-.4-.92-.59-1.43-.59-.52 0-1.04.2-1.43.59L10.3 9.45l-7.72 7.72c-.78.78-.78 2.05 0 2.83L4 21.41c.39.39.9.59 1.41.59.51 0 1.02-.2 1.41-.59l7.78-7.78 2.81-2.81c.8-.78.8-2.07 0-2.86zM5.41 20L4 18.59l7.72-7.72 1.47 1.35L5.41 20z\"/>\n",
              "  </svg>\n",
              "      </button>\n",
              "      \n",
              "  <style>\n",
              "    .colab-df-container {\n",
              "      display:flex;\n",
              "      flex-wrap:wrap;\n",
              "      gap: 12px;\n",
              "    }\n",
              "\n",
              "    .colab-df-convert {\n",
              "      background-color: #E8F0FE;\n",
              "      border: none;\n",
              "      border-radius: 50%;\n",
              "      cursor: pointer;\n",
              "      display: none;\n",
              "      fill: #1967D2;\n",
              "      height: 32px;\n",
              "      padding: 0 0 0 0;\n",
              "      width: 32px;\n",
              "    }\n",
              "\n",
              "    .colab-df-convert:hover {\n",
              "      background-color: #E2EBFA;\n",
              "      box-shadow: 0px 1px 2px rgba(60, 64, 67, 0.3), 0px 1px 3px 1px rgba(60, 64, 67, 0.15);\n",
              "      fill: #174EA6;\n",
              "    }\n",
              "\n",
              "    [theme=dark] .colab-df-convert {\n",
              "      background-color: #3B4455;\n",
              "      fill: #D2E3FC;\n",
              "    }\n",
              "\n",
              "    [theme=dark] .colab-df-convert:hover {\n",
              "      background-color: #434B5C;\n",
              "      box-shadow: 0px 1px 3px 1px rgba(0, 0, 0, 0.15);\n",
              "      filter: drop-shadow(0px 1px 2px rgba(0, 0, 0, 0.3));\n",
              "      fill: #FFFFFF;\n",
              "    }\n",
              "  </style>\n",
              "\n",
              "      <script>\n",
              "        const buttonEl =\n",
              "          document.querySelector('#df-1f75ac0b-19ba-4ef7-a636-d7fe4913a218 button.colab-df-convert');\n",
              "        buttonEl.style.display =\n",
              "          google.colab.kernel.accessAllowed ? 'block' : 'none';\n",
              "\n",
              "        async function convertToInteractive(key) {\n",
              "          const element = document.querySelector('#df-1f75ac0b-19ba-4ef7-a636-d7fe4913a218');\n",
              "          const dataTable =\n",
              "            await google.colab.kernel.invokeFunction('convertToInteractive',\n",
              "                                                     [key], {});\n",
              "          if (!dataTable) return;\n",
              "\n",
              "          const docLinkHtml = 'Like what you see? Visit the ' +\n",
              "            '<a target=\"_blank\" href=https://colab.research.google.com/notebooks/data_table.ipynb>data table notebook</a>'\n",
              "            + ' to learn more about interactive tables.';\n",
              "          element.innerHTML = '';\n",
              "          dataTable['output_type'] = 'display_data';\n",
              "          await google.colab.output.renderOutput(dataTable, element);\n",
              "          const docLink = document.createElement('div');\n",
              "          docLink.innerHTML = docLinkHtml;\n",
              "          element.appendChild(docLink);\n",
              "        }\n",
              "      </script>\n",
              "    </div>\n",
              "  </div>\n",
              "  "
            ],
            "text/plain": [
              "    0      1      2      3      4      5      6      7      8      9      ...  \\\n",
              "0     a25      0      0      0      0      0      0      0      0      0  ...   \n",
              "1     a25      0      0      0      0      0      0      0      0      0  ...   \n",
              "2     a25      0      0      0      0      0      0      0      0      0  ...   \n",
              "3     a25      0      0      0      0      0      0      0      0      0  ...   \n",
              "4     a25      0      0      0      0      0      0      0      0      0  ...   \n",
              "..    ...    ...    ...    ...    ...    ...    ...    ...    ...    ...  ...   \n",
              "411   a41      0      0      0      0      0      0      0      0      0  ...   \n",
              "412   a41      0      0      0      0      0      0      0      0      0  ...   \n",
              "413   a41      0      0      0      0      0      0      0      0      0  ...   \n",
              "414   a41      0      0      0      0      0      0      0      0      0  ...   \n",
              "415   a41      0      0      0      0      0      0      0      0      0  ...   \n",
              "\n",
              "     12279  12280  12281  12282  12283  12284  12285  12286  12287  12288  \n",
              "0      -20    -20    -20    -20    -19    -20    -22    -19    -22    -23  \n",
              "1      -74    -73    -75    -73    -72    -72    -69    -67    -67    -70  \n",
              "2      -51    -52    -54    -51    -54    -54    -54    -53    -52    -54  \n",
              "3       74     74     74     74     74     74     75     71     76     74  \n",
              "4      129    130    130    133    131    129    124    124    122    117  \n",
              "..     ...    ...    ...    ...    ...    ...    ...    ...    ...    ...  \n",
              "411     83     81     80     82     80     82     82     80     81     79  \n",
              "412      9      9      8     11      8      9     12     10     15     12  \n",
              "413    223    223    222    223    225    227    230    229    227    226  \n",
              "414    440    438    440    440    439    441    442    446    445    445  \n",
              "415    613    612    610    600    589    581    575    575    577    578  \n",
              "\n",
              "[416 rows x 12289 columns]"
            ]
          },
          "execution_count": 183,
          "metadata": {},
          "output_type": "execute_result"
        }
      ],
      "source": [
        "df = pd.read_csv(FILE, sep='\\t+', engine='python', header=None)\n",
        "df"
      ]
    },
    {
      "cell_type": "code",
      "execution_count": null,
      "metadata": {
        "id": "L8RtnB9jY2gx"
      },
      "outputs": [],
      "source": [
        "# build the model\n",
        "models = {\n",
        "    \"KNN\": KNeighborsClassifier(),\n",
        "    \"LDA\": LinearDiscriminantAnalysis(),\n",
        "    \"NB\": GaussianNB(),\n",
        "    \"TREE\":DecisionTreeClassifier(),\n",
        "    \"RF\":RandomForestClassifier(n_estimators=20),\n",
        "    \"SVM\":SVC(gamma='scale'),\n",
        "    \"PERC\":Perceptron(max_iter=2000),\n",
        "    \"GB\":GradientBoostingClassifier()\n",
        "}"
      ]
    },
    {
      "cell_type": "code",
      "execution_count": null,
      "metadata": {
        "colab": {
          "base_uri": "https://localhost:8080/"
        },
        "id": "qQ6sRE0Xh51s",
        "outputId": "ca3ed27e-2146-4cba-c260-c53abf17d689"
      },
      "outputs": [
        {
          "name": "stdout",
          "output_type": "stream",
          "text": [
            "     1     2     3     4     5     6     7     8     9     10    ...  4087  \\\n",
            "0       0     0     0     0     0     0     0     0     0     0  ...     0   \n",
            "1       0     0     0     0     0     0     0     0     0     0  ...     0   \n",
            "2       0     0     0     0     0     0     0     0     0     0  ...     0   \n",
            "3       0     0     0     0     0     0     0     0     0     0  ...     0   \n",
            "4       0     0     0     0     0     0     0     0     0     0  ...     0   \n",
            "..    ...   ...   ...   ...   ...   ...   ...   ...   ...   ...  ...   ...   \n",
            "411     0     0     0     0     0     0     0     0     0     0  ...     0   \n",
            "412     0     0     0     0     0     0     0     0     0     0  ...     0   \n",
            "413     0     0     0     0     0     0     0     0     0     0  ...     0   \n",
            "414     0     0     0     0     0     0     0     0     0     0  ...     0   \n",
            "415     0     0     0     0     0     0     0     0     0     0  ...     0   \n",
            "\n",
            "     4088  4089  4090  4091  4092  4093  4094  4095  4096  \n",
            "0       0     0     0     0     0     0     0     0     0  \n",
            "1       0     0     0     0     0     0     0     0     0  \n",
            "2       0     0     0     0     0     0     0     0     0  \n",
            "3       0     0     0     0     0     0     0     0     0  \n",
            "4       0     0     0     0     0     0     0     0     0  \n",
            "..    ...   ...   ...   ...   ...   ...   ...   ...   ...  \n",
            "411     0     0     0     0     0     0     0     0     0  \n",
            "412     0     0     0     0     0     0     0     0     0  \n",
            "413     0     0     0     0     0     0     0     0     0  \n",
            "414     0     0     0     0     0     0     0     0     0  \n",
            "415     0     0     0     0     0     0     0     0     0  \n",
            "\n",
            "[416 rows x 3530 columns]\n"
          ]
        }
      ],
      "source": [
        "#get columns that have 0 in all rows\n",
        "#print(df.loc[ : , [(df[col] == 0).all() for col in df.columns]])\n",
        "\n",
        "#get columns that have only one unique value in all rows\n",
        "#print(df.loc[ : , [df[col].nunique()==1 for col in df.columns]])\n",
        "columns_to_remove = [col for col in df.columns if df[col].nunique()==1]\n",
        "print(df.loc[ : , columns_to_remove])"
      ]
    },
    {
      "cell_type": "code",
      "execution_count": null,
      "metadata": {
        "colab": {
          "base_uri": "https://localhost:8080/",
          "height": 424
        },
        "id": "HAW50gIhk67S",
        "outputId": "83b4bb48-12b7-47be-94c0-4efa62e4a818"
      },
      "outputs": [
        {
          "data": {
            "text/html": [
              "\n",
              "  <div id=\"df-e179ecd6-9694-4ff4-9b70-47949ac539c6\">\n",
              "    <div class=\"colab-df-container\">\n",
              "      <div>\n",
              "<style scoped>\n",
              "    .dataframe tbody tr th:only-of-type {\n",
              "        vertical-align: middle;\n",
              "    }\n",
              "\n",
              "    .dataframe tbody tr th {\n",
              "        vertical-align: top;\n",
              "    }\n",
              "\n",
              "    .dataframe thead th {\n",
              "        text-align: right;\n",
              "    }\n",
              "</style>\n",
              "<table border=\"1\" class=\"dataframe\">\n",
              "  <thead>\n",
              "    <tr style=\"text-align: right;\">\n",
              "      <th></th>\n",
              "      <th>0</th>\n",
              "      <th>386</th>\n",
              "      <th>387</th>\n",
              "      <th>388</th>\n",
              "      <th>389</th>\n",
              "      <th>390</th>\n",
              "      <th>391</th>\n",
              "      <th>392</th>\n",
              "      <th>393</th>\n",
              "      <th>394</th>\n",
              "      <th>...</th>\n",
              "      <th>12279</th>\n",
              "      <th>12280</th>\n",
              "      <th>12281</th>\n",
              "      <th>12282</th>\n",
              "      <th>12283</th>\n",
              "      <th>12284</th>\n",
              "      <th>12285</th>\n",
              "      <th>12286</th>\n",
              "      <th>12287</th>\n",
              "      <th>12288</th>\n",
              "    </tr>\n",
              "  </thead>\n",
              "  <tbody>\n",
              "    <tr>\n",
              "      <th>0</th>\n",
              "      <td>a25</td>\n",
              "      <td>0</td>\n",
              "      <td>0</td>\n",
              "      <td>0</td>\n",
              "      <td>2048</td>\n",
              "      <td>2048</td>\n",
              "      <td>2048</td>\n",
              "      <td>2048</td>\n",
              "      <td>2048</td>\n",
              "      <td>2048</td>\n",
              "      <td>...</td>\n",
              "      <td>-20</td>\n",
              "      <td>-20</td>\n",
              "      <td>-20</td>\n",
              "      <td>-20</td>\n",
              "      <td>-19</td>\n",
              "      <td>-20</td>\n",
              "      <td>-22</td>\n",
              "      <td>-19</td>\n",
              "      <td>-22</td>\n",
              "      <td>-23</td>\n",
              "    </tr>\n",
              "    <tr>\n",
              "      <th>1</th>\n",
              "      <td>a25</td>\n",
              "      <td>0</td>\n",
              "      <td>0</td>\n",
              "      <td>0</td>\n",
              "      <td>0</td>\n",
              "      <td>2048</td>\n",
              "      <td>2048</td>\n",
              "      <td>2048</td>\n",
              "      <td>2048</td>\n",
              "      <td>2048</td>\n",
              "      <td>...</td>\n",
              "      <td>-74</td>\n",
              "      <td>-73</td>\n",
              "      <td>-75</td>\n",
              "      <td>-73</td>\n",
              "      <td>-72</td>\n",
              "      <td>-72</td>\n",
              "      <td>-69</td>\n",
              "      <td>-67</td>\n",
              "      <td>-67</td>\n",
              "      <td>-70</td>\n",
              "    </tr>\n",
              "    <tr>\n",
              "      <th>2</th>\n",
              "      <td>a25</td>\n",
              "      <td>0</td>\n",
              "      <td>0</td>\n",
              "      <td>0</td>\n",
              "      <td>0</td>\n",
              "      <td>0</td>\n",
              "      <td>0</td>\n",
              "      <td>0</td>\n",
              "      <td>0</td>\n",
              "      <td>2048</td>\n",
              "      <td>...</td>\n",
              "      <td>-51</td>\n",
              "      <td>-52</td>\n",
              "      <td>-54</td>\n",
              "      <td>-51</td>\n",
              "      <td>-54</td>\n",
              "      <td>-54</td>\n",
              "      <td>-54</td>\n",
              "      <td>-53</td>\n",
              "      <td>-52</td>\n",
              "      <td>-54</td>\n",
              "    </tr>\n",
              "    <tr>\n",
              "      <th>3</th>\n",
              "      <td>a25</td>\n",
              "      <td>0</td>\n",
              "      <td>0</td>\n",
              "      <td>0</td>\n",
              "      <td>0</td>\n",
              "      <td>0</td>\n",
              "      <td>0</td>\n",
              "      <td>0</td>\n",
              "      <td>2048</td>\n",
              "      <td>2048</td>\n",
              "      <td>...</td>\n",
              "      <td>74</td>\n",
              "      <td>74</td>\n",
              "      <td>74</td>\n",
              "      <td>74</td>\n",
              "      <td>74</td>\n",
              "      <td>74</td>\n",
              "      <td>75</td>\n",
              "      <td>71</td>\n",
              "      <td>76</td>\n",
              "      <td>74</td>\n",
              "    </tr>\n",
              "    <tr>\n",
              "      <th>4</th>\n",
              "      <td>a25</td>\n",
              "      <td>0</td>\n",
              "      <td>0</td>\n",
              "      <td>2048</td>\n",
              "      <td>2048</td>\n",
              "      <td>2048</td>\n",
              "      <td>2048</td>\n",
              "      <td>2048</td>\n",
              "      <td>2048</td>\n",
              "      <td>2048</td>\n",
              "      <td>...</td>\n",
              "      <td>129</td>\n",
              "      <td>130</td>\n",
              "      <td>130</td>\n",
              "      <td>133</td>\n",
              "      <td>131</td>\n",
              "      <td>129</td>\n",
              "      <td>124</td>\n",
              "      <td>124</td>\n",
              "      <td>122</td>\n",
              "      <td>117</td>\n",
              "    </tr>\n",
              "    <tr>\n",
              "      <th>...</th>\n",
              "      <td>...</td>\n",
              "      <td>...</td>\n",
              "      <td>...</td>\n",
              "      <td>...</td>\n",
              "      <td>...</td>\n",
              "      <td>...</td>\n",
              "      <td>...</td>\n",
              "      <td>...</td>\n",
              "      <td>...</td>\n",
              "      <td>...</td>\n",
              "      <td>...</td>\n",
              "      <td>...</td>\n",
              "      <td>...</td>\n",
              "      <td>...</td>\n",
              "      <td>...</td>\n",
              "      <td>...</td>\n",
              "      <td>...</td>\n",
              "      <td>...</td>\n",
              "      <td>...</td>\n",
              "      <td>...</td>\n",
              "      <td>...</td>\n",
              "    </tr>\n",
              "    <tr>\n",
              "      <th>411</th>\n",
              "      <td>a41</td>\n",
              "      <td>0</td>\n",
              "      <td>0</td>\n",
              "      <td>0</td>\n",
              "      <td>0</td>\n",
              "      <td>0</td>\n",
              "      <td>0</td>\n",
              "      <td>2048</td>\n",
              "      <td>2048</td>\n",
              "      <td>2048</td>\n",
              "      <td>...</td>\n",
              "      <td>83</td>\n",
              "      <td>81</td>\n",
              "      <td>80</td>\n",
              "      <td>82</td>\n",
              "      <td>80</td>\n",
              "      <td>82</td>\n",
              "      <td>82</td>\n",
              "      <td>80</td>\n",
              "      <td>81</td>\n",
              "      <td>79</td>\n",
              "    </tr>\n",
              "    <tr>\n",
              "      <th>412</th>\n",
              "      <td>a41</td>\n",
              "      <td>0</td>\n",
              "      <td>0</td>\n",
              "      <td>0</td>\n",
              "      <td>0</td>\n",
              "      <td>0</td>\n",
              "      <td>2048</td>\n",
              "      <td>2048</td>\n",
              "      <td>2048</td>\n",
              "      <td>2048</td>\n",
              "      <td>...</td>\n",
              "      <td>9</td>\n",
              "      <td>9</td>\n",
              "      <td>8</td>\n",
              "      <td>11</td>\n",
              "      <td>8</td>\n",
              "      <td>9</td>\n",
              "      <td>12</td>\n",
              "      <td>10</td>\n",
              "      <td>15</td>\n",
              "      <td>12</td>\n",
              "    </tr>\n",
              "    <tr>\n",
              "      <th>413</th>\n",
              "      <td>a41</td>\n",
              "      <td>0</td>\n",
              "      <td>0</td>\n",
              "      <td>0</td>\n",
              "      <td>0</td>\n",
              "      <td>0</td>\n",
              "      <td>0</td>\n",
              "      <td>0</td>\n",
              "      <td>0</td>\n",
              "      <td>2048</td>\n",
              "      <td>...</td>\n",
              "      <td>223</td>\n",
              "      <td>223</td>\n",
              "      <td>222</td>\n",
              "      <td>223</td>\n",
              "      <td>225</td>\n",
              "      <td>227</td>\n",
              "      <td>230</td>\n",
              "      <td>229</td>\n",
              "      <td>227</td>\n",
              "      <td>226</td>\n",
              "    </tr>\n",
              "    <tr>\n",
              "      <th>414</th>\n",
              "      <td>a41</td>\n",
              "      <td>0</td>\n",
              "      <td>0</td>\n",
              "      <td>0</td>\n",
              "      <td>0</td>\n",
              "      <td>0</td>\n",
              "      <td>0</td>\n",
              "      <td>0</td>\n",
              "      <td>0</td>\n",
              "      <td>0</td>\n",
              "      <td>...</td>\n",
              "      <td>440</td>\n",
              "      <td>438</td>\n",
              "      <td>440</td>\n",
              "      <td>440</td>\n",
              "      <td>439</td>\n",
              "      <td>441</td>\n",
              "      <td>442</td>\n",
              "      <td>446</td>\n",
              "      <td>445</td>\n",
              "      <td>445</td>\n",
              "    </tr>\n",
              "    <tr>\n",
              "      <th>415</th>\n",
              "      <td>a41</td>\n",
              "      <td>0</td>\n",
              "      <td>0</td>\n",
              "      <td>0</td>\n",
              "      <td>0</td>\n",
              "      <td>0</td>\n",
              "      <td>0</td>\n",
              "      <td>0</td>\n",
              "      <td>0</td>\n",
              "      <td>0</td>\n",
              "      <td>...</td>\n",
              "      <td>613</td>\n",
              "      <td>612</td>\n",
              "      <td>610</td>\n",
              "      <td>600</td>\n",
              "      <td>589</td>\n",
              "      <td>581</td>\n",
              "      <td>575</td>\n",
              "      <td>575</td>\n",
              "      <td>577</td>\n",
              "      <td>578</td>\n",
              "    </tr>\n",
              "  </tbody>\n",
              "</table>\n",
              "<p>416 rows × 8759 columns</p>\n",
              "</div>\n",
              "      <button class=\"colab-df-convert\" onclick=\"convertToInteractive('df-e179ecd6-9694-4ff4-9b70-47949ac539c6')\"\n",
              "              title=\"Convert this dataframe to an interactive table.\"\n",
              "              style=\"display:none;\">\n",
              "        \n",
              "  <svg xmlns=\"http://www.w3.org/2000/svg\" height=\"24px\"viewBox=\"0 0 24 24\"\n",
              "       width=\"24px\">\n",
              "    <path d=\"M0 0h24v24H0V0z\" fill=\"none\"/>\n",
              "    <path d=\"M18.56 5.44l.94 2.06.94-2.06 2.06-.94-2.06-.94-.94-2.06-.94 2.06-2.06.94zm-11 1L8.5 8.5l.94-2.06 2.06-.94-2.06-.94L8.5 2.5l-.94 2.06-2.06.94zm10 10l.94 2.06.94-2.06 2.06-.94-2.06-.94-.94-2.06-.94 2.06-2.06.94z\"/><path d=\"M17.41 7.96l-1.37-1.37c-.4-.4-.92-.59-1.43-.59-.52 0-1.04.2-1.43.59L10.3 9.45l-7.72 7.72c-.78.78-.78 2.05 0 2.83L4 21.41c.39.39.9.59 1.41.59.51 0 1.02-.2 1.41-.59l7.78-7.78 2.81-2.81c.8-.78.8-2.07 0-2.86zM5.41 20L4 18.59l7.72-7.72 1.47 1.35L5.41 20z\"/>\n",
              "  </svg>\n",
              "      </button>\n",
              "      \n",
              "  <style>\n",
              "    .colab-df-container {\n",
              "      display:flex;\n",
              "      flex-wrap:wrap;\n",
              "      gap: 12px;\n",
              "    }\n",
              "\n",
              "    .colab-df-convert {\n",
              "      background-color: #E8F0FE;\n",
              "      border: none;\n",
              "      border-radius: 50%;\n",
              "      cursor: pointer;\n",
              "      display: none;\n",
              "      fill: #1967D2;\n",
              "      height: 32px;\n",
              "      padding: 0 0 0 0;\n",
              "      width: 32px;\n",
              "    }\n",
              "\n",
              "    .colab-df-convert:hover {\n",
              "      background-color: #E2EBFA;\n",
              "      box-shadow: 0px 1px 2px rgba(60, 64, 67, 0.3), 0px 1px 3px 1px rgba(60, 64, 67, 0.15);\n",
              "      fill: #174EA6;\n",
              "    }\n",
              "\n",
              "    [theme=dark] .colab-df-convert {\n",
              "      background-color: #3B4455;\n",
              "      fill: #D2E3FC;\n",
              "    }\n",
              "\n",
              "    [theme=dark] .colab-df-convert:hover {\n",
              "      background-color: #434B5C;\n",
              "      box-shadow: 0px 1px 3px 1px rgba(0, 0, 0, 0.15);\n",
              "      filter: drop-shadow(0px 1px 2px rgba(0, 0, 0, 0.3));\n",
              "      fill: #FFFFFF;\n",
              "    }\n",
              "  </style>\n",
              "\n",
              "      <script>\n",
              "        const buttonEl =\n",
              "          document.querySelector('#df-e179ecd6-9694-4ff4-9b70-47949ac539c6 button.colab-df-convert');\n",
              "        buttonEl.style.display =\n",
              "          google.colab.kernel.accessAllowed ? 'block' : 'none';\n",
              "\n",
              "        async function convertToInteractive(key) {\n",
              "          const element = document.querySelector('#df-e179ecd6-9694-4ff4-9b70-47949ac539c6');\n",
              "          const dataTable =\n",
              "            await google.colab.kernel.invokeFunction('convertToInteractive',\n",
              "                                                     [key], {});\n",
              "          if (!dataTable) return;\n",
              "\n",
              "          const docLinkHtml = 'Like what you see? Visit the ' +\n",
              "            '<a target=\"_blank\" href=https://colab.research.google.com/notebooks/data_table.ipynb>data table notebook</a>'\n",
              "            + ' to learn more about interactive tables.';\n",
              "          element.innerHTML = '';\n",
              "          dataTable['output_type'] = 'display_data';\n",
              "          await google.colab.output.renderOutput(dataTable, element);\n",
              "          const docLink = document.createElement('div');\n",
              "          docLink.innerHTML = docLinkHtml;\n",
              "          element.appendChild(docLink);\n",
              "        }\n",
              "      </script>\n",
              "    </div>\n",
              "  </div>\n",
              "  "
            ],
            "text/plain": [
              "    0      386    387    388    389    390    391    392    393    394    ...  \\\n",
              "0     a25      0      0      0   2048   2048   2048   2048   2048   2048  ...   \n",
              "1     a25      0      0      0      0   2048   2048   2048   2048   2048  ...   \n",
              "2     a25      0      0      0      0      0      0      0      0   2048  ...   \n",
              "3     a25      0      0      0      0      0      0      0   2048   2048  ...   \n",
              "4     a25      0      0   2048   2048   2048   2048   2048   2048   2048  ...   \n",
              "..    ...    ...    ...    ...    ...    ...    ...    ...    ...    ...  ...   \n",
              "411   a41      0      0      0      0      0      0   2048   2048   2048  ...   \n",
              "412   a41      0      0      0      0      0   2048   2048   2048   2048  ...   \n",
              "413   a41      0      0      0      0      0      0      0      0   2048  ...   \n",
              "414   a41      0      0      0      0      0      0      0      0      0  ...   \n",
              "415   a41      0      0      0      0      0      0      0      0      0  ...   \n",
              "\n",
              "     12279  12280  12281  12282  12283  12284  12285  12286  12287  12288  \n",
              "0      -20    -20    -20    -20    -19    -20    -22    -19    -22    -23  \n",
              "1      -74    -73    -75    -73    -72    -72    -69    -67    -67    -70  \n",
              "2      -51    -52    -54    -51    -54    -54    -54    -53    -52    -54  \n",
              "3       74     74     74     74     74     74     75     71     76     74  \n",
              "4      129    130    130    133    131    129    124    124    122    117  \n",
              "..     ...    ...    ...    ...    ...    ...    ...    ...    ...    ...  \n",
              "411     83     81     80     82     80     82     82     80     81     79  \n",
              "412      9      9      8     11      8      9     12     10     15     12  \n",
              "413    223    223    222    223    225    227    230    229    227    226  \n",
              "414    440    438    440    440    439    441    442    446    445    445  \n",
              "415    613    612    610    600    589    581    575    575    577    578  \n",
              "\n",
              "[416 rows x 8759 columns]"
            ]
          },
          "execution_count": 186,
          "metadata": {},
          "output_type": "execute_result"
        }
      ],
      "source": [
        "#drop columns that only have one single value\n",
        "clear_df = df.drop(df.columns[columns_to_remove], axis=1, inplace=False)\n",
        "clear_df"
      ]
    },
    {
      "cell_type": "code",
      "execution_count": null,
      "metadata": {
        "id": "FKyhxk5srdy_"
      },
      "outputs": [],
      "source": [
        "labels = np.array(clear_df[0][:])\n",
        "numeric_labels = np.array([float(label[1:]) for label in labels])"
      ]
    },
    {
      "cell_type": "code",
      "execution_count": null,
      "metadata": {
        "id": "XAGzF1dhaOXE"
      },
      "outputs": [],
      "source": [
        "samples = np.array(clear_df.loc[:, 1:len(clear_df.columns)])"
      ]
    },
    {
      "cell_type": "code",
      "execution_count": null,
      "metadata": {
        "id": "NW0_bIS4nt3d"
      },
      "outputs": [],
      "source": [
        "#split original DataFrame into training and testing sets\n",
        "#train, test = train_test_split(clear_df, test_size=0.2, random_state=0)\n",
        "(X_train, X_test, y_train, y_test) = train_test_split(samples, numeric_labels, test_size = .2)"
      ]
    },
    {
      "cell_type": "code",
      "execution_count": null,
      "metadata": {
        "colab": {
          "base_uri": "https://localhost:8080/",
          "height": 70
        },
        "id": "9mFaqtgmpXHV",
        "outputId": "94321a34-27e5-4c21-f69a-fb4523fcdb92"
      },
      "outputs": [
        {
          "name": "stdout",
          "output_type": "stream",
          "text": [
            "score\n",
            "0.35714285714285715\n"
          ]
        },
        {
          "data": {
            "application/vnd.google.colaboratory.intrinsic+json": {
              "type": "string"
            },
            "text/plain": [
              "\"\\nplt.plot(np.arange(len(numeric_labels)), numeric_labels, color='green')\\nplt.show()\\nplt.plot(np.arange(len(result)), result, color='red')\\nplt.show()\\n\""
            ]
          },
          "execution_count": 190,
          "metadata": {},
          "output_type": "execute_result"
        }
      ],
      "source": [
        "# try out k Nearest Neighbours classifier\n",
        "model_name=\"KNN\"\n",
        "model = models.get(model_name)\n",
        "model.fit(X_train, y_train)\n",
        "result = model.predict(X_test)\n",
        "score = model.score(X_test, y_test)\n",
        "print(\"score\")\n",
        "print(score)\n",
        "#score 0.32142857142857145"
      ]
    },
    {
      "cell_type": "code",
      "execution_count": null,
      "metadata": {
        "colab": {
          "base_uri": "https://localhost:8080/",
          "height": 70
        },
        "id": "K-1aCbcUqHNA",
        "outputId": "6dddd316-74fd-4d06-9588-ab47b9bd0722"
      },
      "outputs": [
        {
          "name": "stdout",
          "output_type": "stream",
          "text": [
            "score\n",
            "0.7738095238095238\n"
          ]
        },
        {
          "data": {
            "application/vnd.google.colaboratory.intrinsic+json": {
              "type": "string"
            },
            "text/plain": [
              "\"\\nplt.plot(np.arange(len(numeric_labels)), numeric_labels, color='green')\\nplt.show()\\nplt.plot(np.arange(len(result)), result, color='red')\\nplt.show()\\n\""
            ]
          },
          "execution_count": 191,
          "metadata": {},
          "output_type": "execute_result"
        }
      ],
      "source": [
        "# try out Linear Discriminant Analysis classifier\n",
        "model_name=\"LDA\"\n",
        "model = models.get(model_name)\n",
        "model.fit(X_train, y_train)\n",
        "result = model.predict(X_test)\n",
        "score = model.score(X_test, y_test)\n",
        "print(\"score\")\n",
        "print(score)\n",
        "#score 0.75"
      ]
    },
    {
      "cell_type": "code",
      "execution_count": null,
      "metadata": {
        "colab": {
          "base_uri": "https://localhost:8080/",
          "height": 70
        },
        "id": "_yxprFLnqYCm",
        "outputId": "e6dcb7b0-1252-41d6-b7ad-8c0d0605d321"
      },
      "outputs": [
        {
          "name": "stdout",
          "output_type": "stream",
          "text": [
            "score\n",
            "0.5119047619047619\n"
          ]
        },
        {
          "data": {
            "application/vnd.google.colaboratory.intrinsic+json": {
              "type": "string"
            },
            "text/plain": [
              "\"\\nplt.plot(np.arange(len(numeric_labels)), numeric_labels, color='green')\\nplt.show()\\nplt.plot(np.arange(len(result)), result, color='red')\\nplt.show()\\n\""
            ]
          },
          "execution_count": 192,
          "metadata": {},
          "output_type": "execute_result"
        }
      ],
      "source": [
        "# try out Gaussian Naive Bayes classifier\n",
        "model_name=\"NB\"\n",
        "model = models.get(model_name)\n",
        "model.fit(X_train, y_train)\n",
        "result = model.predict(X_test)\n",
        "score = model.score(X_test, y_test)\n",
        "print(\"score\")\n",
        "print(score)\n",
        "#score 0.5"
      ]
    },
    {
      "cell_type": "code",
      "execution_count": null,
      "metadata": {
        "colab": {
          "base_uri": "https://localhost:8080/",
          "height": 70
        },
        "id": "595Femiaqf7H",
        "outputId": "a10258e2-633d-487b-d96c-125b03bc93be"
      },
      "outputs": [
        {
          "name": "stdout",
          "output_type": "stream",
          "text": [
            "score\n",
            "0.4880952380952381\n"
          ]
        },
        {
          "data": {
            "application/vnd.google.colaboratory.intrinsic+json": {
              "type": "string"
            },
            "text/plain": [
              "\"\\nplt.plot(np.arange(len(numeric_labels)), numeric_labels, color='green')\\nplt.show()\\nplt.plot(np.arange(len(result)), result, color='red')\\nplt.show()\\n\""
            ]
          },
          "execution_count": 193,
          "metadata": {},
          "output_type": "execute_result"
        }
      ],
      "source": [
        "# try out Decision Tree classifier\n",
        "model_name=\"TREE\"\n",
        "model = models.get(model_name)\n",
        "model.fit(X_train, y_train)\n",
        "result = model.predict(X_test)\n",
        "score = model.score(X_test, y_test)\n",
        "print(\"score\")\n",
        "print(score)\n",
        "#score 0.47619047619047616"
      ]
    },
    {
      "cell_type": "code",
      "execution_count": null,
      "metadata": {
        "colab": {
          "base_uri": "https://localhost:8080/",
          "height": 70
        },
        "id": "C80poFr-qscQ",
        "outputId": "0420296c-430c-44df-f3b6-4b01e89c33ea"
      },
      "outputs": [
        {
          "name": "stdout",
          "output_type": "stream",
          "text": [
            "score\n",
            "0.7261904761904762\n"
          ]
        },
        {
          "data": {
            "application/vnd.google.colaboratory.intrinsic+json": {
              "type": "string"
            },
            "text/plain": [
              "\"\\nplt.plot(np.arange(len(numeric_labels)), numeric_labels, color='green')\\nplt.show()\\nplt.plot(np.arange(len(result)), result, color='red')\\nplt.show()\\n\""
            ]
          },
          "execution_count": 194,
          "metadata": {},
          "output_type": "execute_result"
        }
      ],
      "source": [
        "# try out Random Forest classifier\n",
        "model_name=\"RF\"\n",
        "model = models.get(model_name)\n",
        "model.fit(X_train, y_train)\n",
        "result = model.predict(X_test)\n",
        "score = model.score(X_test, y_test)\n",
        "print(\"score\")\n",
        "print(score)\n",
        "#score 0.6547619047619048"
      ]
    },
    {
      "cell_type": "code",
      "execution_count": null,
      "metadata": {
        "colab": {
          "base_uri": "https://localhost:8080/",
          "height": 70
        },
        "id": "m4igQJ79q28K",
        "outputId": "11d46e76-e512-4032-98ba-276cb767bd04"
      },
      "outputs": [
        {
          "name": "stdout",
          "output_type": "stream",
          "text": [
            "score\n",
            "0.5476190476190477\n"
          ]
        },
        {
          "data": {
            "application/vnd.google.colaboratory.intrinsic+json": {
              "type": "string"
            },
            "text/plain": [
              "\"\\nplt.plot(np.arange(len(numeric_labels)), numeric_labels, color='green')\\nplt.show()\\nplt.plot(np.arange(len(result)), result, color='red')\\nplt.show()\\n\""
            ]
          },
          "execution_count": 195,
          "metadata": {},
          "output_type": "execute_result"
        }
      ],
      "source": [
        "# try out Support Vector Machine classifier\n",
        "model_name=\"SVM\"\n",
        "model = models.get(model_name)\n",
        "model.fit(X_train, y_train)\n",
        "result = model.predict(X_test)\n",
        "score = model.score(X_test, y_test)\n",
        "print(\"score\")\n",
        "print(score)\n",
        "#score 0.5"
      ]
    },
    {
      "cell_type": "code",
      "execution_count": null,
      "metadata": {
        "colab": {
          "base_uri": "https://localhost:8080/",
          "height": 70
        },
        "id": "8LHg-s2Yq-oj",
        "outputId": "0e12ea50-e28d-458c-fa49-64bfa4b6262c"
      },
      "outputs": [
        {
          "name": "stdout",
          "output_type": "stream",
          "text": [
            "score\n",
            "0.6666666666666666\n"
          ]
        },
        {
          "data": {
            "application/vnd.google.colaboratory.intrinsic+json": {
              "type": "string"
            },
            "text/plain": [
              "\"\\nplt.plot(np.arange(len(numeric_labels)), numeric_labels, color='green')\\nplt.show()\\nplt.plot(np.arange(len(result)), result, color='red')\\nplt.show()\\n\""
            ]
          },
          "execution_count": 196,
          "metadata": {},
          "output_type": "execute_result"
        }
      ],
      "source": [
        "# try out Perceptron classifier\n",
        "model_name=\"PERC\"\n",
        "model = models.get(model_name)\n",
        "model.fit(X_train, y_train)\n",
        "result = model.predict(X_test)\n",
        "score = model.score(X_test, y_test)\n",
        "print(\"score\")\n",
        "print(score)\n",
        "#score 0.6190476190476191"
      ]
    },
    {
      "cell_type": "code",
      "execution_count": null,
      "metadata": {
        "id": "hyP7S1z6sb7t"
      },
      "outputs": [],
      "source": [
        "#Feature selection\n",
        "from sklearn.feature_selection import VarianceThreshold\n",
        "from sklearn.feature_selection import SelectKBest\n",
        "from sklearn.feature_selection import f_classif\n",
        "from sklearn.feature_selection import f_regression\n",
        "#Removing features with low variance\n",
        "#var_thresh = VarianceThreshold(threshold=(.8 * (1 - .8)))\n",
        "#var_thresh.fit_transform(samples)\n",
        "\n",
        "#Univariate feature selection - statistical test\n",
        "k_best = SelectKBest(f_regression, k=4000)\n",
        "samples = k_best.fit_transform(samples, numeric_labels)"
      ]
    },
    {
      "cell_type": "code",
      "execution_count": null,
      "metadata": {
        "id": "UQofrJYzrNBs"
      },
      "outputs": [],
      "source": [
        "#perform crossvalidation on three best classifiers - LDA, Random Forest and Perceptron"
      ]
    },
    {
      "cell_type": "code",
      "execution_count": null,
      "metadata": {
        "colab": {
          "base_uri": "https://localhost:8080/"
        },
        "id": "QeGFr-k0iHac",
        "outputId": "7ae7ee32-a972-4eff-c438-1bbd08902958"
      },
      "outputs": [
        {
          "name": "stdout",
          "output_type": "stream",
          "text": [
            "0.72 accuracy with a standard deviation of 0.02\n"
          ]
        }
      ],
      "source": [
        "model_name=\"LDA\"\n",
        "model = models.get(model_name)\n",
        "scores = cross_val_score(model, samples, numeric_labels, cv=5)\n",
        "print(\"%0.2f accuracy with a standard deviation of %0.2f\" % (scores.mean(), scores.std()))"
      ]
    },
    {
      "cell_type": "code",
      "execution_count": null,
      "metadata": {
        "colab": {
          "base_uri": "https://localhost:8080/"
        },
        "id": "6ASQ44YyrgiC",
        "outputId": "13afc1a5-f8eb-4573-9964-5167d01dc82b"
      },
      "outputs": [
        {
          "name": "stdout",
          "output_type": "stream",
          "text": [
            "0.64 accuracy with a standard deviation of 0.05\n"
          ]
        }
      ],
      "source": [
        "model_name=\"RF\"\n",
        "model = models.get(model_name)\n",
        "scores = cross_val_score(model, samples, numeric_labels, cv=5)\n",
        "print(\"%0.2f accuracy with a standard deviation of %0.2f\" % (scores.mean(), scores.std()))"
      ]
    },
    {
      "cell_type": "code",
      "execution_count": null,
      "metadata": {
        "colab": {
          "base_uri": "https://localhost:8080/"
        },
        "id": "rD9TnfAKpox0",
        "outputId": "82bc76ee-6a6b-48d8-c184-39492a88cd66"
      },
      "outputs": [
        {
          "name": "stdout",
          "output_type": "stream",
          "text": [
            "0.77 accuracy with a standard deviation of 0.05\n"
          ]
        }
      ],
      "source": [
        "model_name=\"PERC\"\n",
        "model = models.get(model_name)\n",
        "scores = cross_val_score(model, samples, numeric_labels, cv=5)\n",
        "print(\"%0.2f accuracy with a standard deviation of %0.2f\" % (scores.mean(), scores.std()))"
      ]
    },
    {
      "cell_type": "code",
      "execution_count": null,
      "metadata": {
        "colab": {
          "base_uri": "https://localhost:8080/",
          "height": 265
        },
        "id": "x8pU5Brj86kW",
        "outputId": "e79cc101-e334-4ee9-c9ae-27568ff00b86"
      },
      "outputs": [
        {
          "data": {
            "image/png": "[encoded data removed]",
            "text/plain": [
              "<Figure size 432x288 with 1 Axes>"
            ]
          },
          "metadata": {
            "needs_background": "light"
          },
          "output_type": "display_data"
        }
      ],
      "source": [
        "#visualize eye movement\n",
        "some_row = df.loc[0, :]\n",
        "sx = np.append([0], some_row[1:2048])\n",
        "sy = np.array(some_row[2048:4096])\n",
        "lx = np.array(some_row[4096:6144])\n",
        "rx = np.array(some_row[6144:8192])\n",
        "ly = np.array(some_row[8192:10240])\n",
        "ry = np.array(some_row[10240:12288])\n",
        "plt.plot(sx, sy, color='black')\n",
        "plt.plot(lx, ly, color='blue')\n",
        "plt.plot(rx, ry, color='red')\n",
        "plt.show()"
      ]
    },
    {
      "cell_type": "code",
      "execution_count": null,
      "metadata": {
        "colab": {
          "base_uri": "https://localhost:8080/"
        },
        "id": "cfI7cBhpFEzK",
        "outputId": "79c37ee3-e2ff-4a99-86e0-fe321716b4c2"
      },
      "outputs": [
        {
          "name": "stdout",
          "output_type": "stream",
          "text": [
            "clear_df\n",
            "    0      386    387    388    389    390    391    392    393    394    ...  \\\n",
            "0     a25      0      0      0   2048   2048   2048   2048   2048   2048  ...   \n",
            "1     a25      0      0      0      0   2048   2048   2048   2048   2048  ...   \n",
            "2     a25      0      0      0      0      0      0      0      0   2048  ...   \n",
            "3     a25      0      0      0      0      0      0      0   2048   2048  ...   \n",
            "4     a25      0      0   2048   2048   2048   2048   2048   2048   2048  ...   \n",
            "..    ...    ...    ...    ...    ...    ...    ...    ...    ...    ...  ...   \n",
            "411   a41      0      0      0      0      0      0   2048   2048   2048  ...   \n",
            "412   a41      0      0      0      0      0   2048   2048   2048   2048  ...   \n",
            "413   a41      0      0      0      0      0      0      0      0   2048  ...   \n",
            "414   a41      0      0      0      0      0      0      0      0      0  ...   \n",
            "415   a41      0      0      0      0      0      0      0      0      0  ...   \n",
            "\n",
            "     12279  12280  12281  12282  12283  12284  12285  12286  12287  12288  \n",
            "0      -20    -20    -20    -20    -19    -20    -22    -19    -22    -23  \n",
            "1      -74    -73    -75    -73    -72    -72    -69    -67    -67    -70  \n",
            "2      -51    -52    -54    -51    -54    -54    -54    -53    -52    -54  \n",
            "3       74     74     74     74     74     74     75     71     76     74  \n",
            "4      129    130    130    133    131    129    124    124    122    117  \n",
            "..     ...    ...    ...    ...    ...    ...    ...    ...    ...    ...  \n",
            "411     83     81     80     82     80     82     82     80     81     79  \n",
            "412      9      9      8     11      8      9     12     10     15     12  \n",
            "413    223    223    222    223    225    227    230    229    227    226  \n",
            "414    440    438    440    440    439    441    442    446    445    445  \n",
            "415    613    612    610    600    589    581    575    575    577    578  \n",
            "\n",
            "[416 rows x 8759 columns]\n"
          ]
        },
        {
          "name": "stderr",
          "output_type": "stream",
          "text": [
            "/usr/local/lib/python3.7/dist-packages/ipykernel_launcher.py:12: PerformanceWarning: DataFrame is highly fragmented.  This is usually the result of calling `frame.insert` many times, which has poor performance.  Consider joining all columns at once using pd.concat(axis=1) instead.  To get a de-fragmented frame, use `newframe = frame.copy()`\n",
            "  if sys.path[0] == '':\n"
          ]
        },
        {
          "name": "stdout",
          "output_type": "stream",
          "text": [
            "    0      386    387    388    389    390    391    392    393    394    ...  \\\n",
            "0     a25      0      0      0   2048   2048   2048   2048   2048   2048  ...   \n",
            "1     a25      0      0      0      0   2048   2048   2048   2048   2048  ...   \n",
            "2     a25      0      0      0      0      0      0      0      0   2048  ...   \n",
            "3     a25      0      0      0      0      0      0      0   2048   2048  ...   \n",
            "4     a25      0      0   2048   2048   2048   2048   2048   2048   2048  ...   \n",
            "..    ...    ...    ...    ...    ...    ...    ...    ...    ...    ...  ...   \n",
            "411   a41      0      0      0      0      0      0   2048   2048   2048  ...   \n",
            "412   a41      0      0      0      0      0   2048   2048   2048   2048  ...   \n",
            "413   a41      0      0      0      0      0      0      0      0   2048  ...   \n",
            "414   a41      0      0      0      0      0      0      0      0      0  ...   \n",
            "415   a41      0      0      0      0      0      0      0      0      0  ...   \n",
            "\n",
            "     22038  22039  22040  22041  22042  22043  22044  22045  22046  22047  \n",
            "0       48     46     42     46     45     41     46     43     44     44  \n",
            "1      141    144    141    141    142    141    141    140    139    139  \n",
            "2       60     59     62     63     61     62     63     62     60     61  \n",
            "3      -31    -30    -28    -30    -29    -28    -28    -31    -28    -30  \n",
            "4     -146   -146   -148   -150   -154   -153   -153   -152   -152   -152  \n",
            "..     ...    ...    ...    ...    ...    ...    ...    ...    ...    ...  \n",
            "411   -446   -452   -452   -453   -455   -454   -454   -452   -449   -452  \n",
            "412   -202   -202   -202   -198   -199   -195   -192   -193   -187   -189  \n",
            "413   -488   -492   -489   -485   -485   -475   -474   -471   -474   -471  \n",
            "414    -76    -72    -70    -75    -78    -80    -83    -85    -87    -89  \n",
            "415     -4     -5     -6     -8    -17    -23    -39    -43    -43    -43  \n",
            "\n",
            "[416 rows x 10807 columns]\n",
            "len(clear_df.columns)\n",
            "10807\n",
            "0.82 accuracy with a standard deviation of 0.04\n"
          ]
        }
      ],
      "source": [
        "#optimization of best classifier\n",
        "from sklearn import preprocessing as pr\n",
        "\n",
        "print(\"clear_df\")\n",
        "print(clear_df)\n",
        "#add column - difference between the right and left eye - use dataframe from before modifications\n",
        "for column_number in range(0, 2048):\n",
        "  clear_df[10000 + column_number] = df[df.columns[4096 + column_number]] - df[df.columns[6144 + column_number]]\n",
        "\n",
        "\n",
        "for column_number in range(0, 2048):\n",
        "  clear_df[20000 + column_number] = df[df.columns[8192 + column_number]] - df[df.columns[10240 + column_number]]\n",
        "\n",
        "print(clear_df)\n",
        "\n",
        "print(\"len(clear_df.columns)\")\n",
        "print(len(clear_df.columns))\n",
        "\n",
        "\n",
        "samples = np.array(clear_df.loc[:, 1:len(clear_df.columns)])\n",
        "\n",
        "#normalize samples\n",
        "normalised_dataset = pr.normalize(samples, norm='l2')\n",
        "\n",
        "#standardise samples\n",
        "scaler = pr.StandardScaler()\n",
        "scaler.fit(normalised_dataset)\n",
        "standardised_dataset = scaler.transform(normalised_dataset)\n",
        "\n",
        "model_name=\"LDA\"\n",
        "model = models.get(model_name)\n",
        "scores = cross_val_score(model, standardised_dataset, numeric_labels, cv=5)\n",
        "print(\"%0.2f accuracy with a standard deviation of %0.2f\" % (scores.mean(), scores.std()))"
      ]
    },
    {
      "cell_type": "code",
      "execution_count": null,
      "metadata": {
        "id": "SZgFAQ7WIsSr"
      },
      "outputs": [],
      "source": [
        "clear_df.to_csv('optimised_dataset.csv')"
      ]
    }
  ],
  "metadata": {
    "colab": {
      "provenance": [],
      "include_colab_link": true
    },
    "kernelspec": {
      "display_name": "Python 3",
      "name": "python3"
    },
    "language_info": {
      "name": "python"
    }
  },
  "nbformat": 4,
  "nbformat_minor": 0
}